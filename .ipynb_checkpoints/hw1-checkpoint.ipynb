{
 "cells": [
  {
   "cell_type": "markdown",
   "metadata": {},
   "source": [
    "# HOMEWORK 1\n",
    "## Exercise 1"
   ]
  },
  {
   "cell_type": "markdown",
   "metadata": {},
   "source": [
    "Let's consider a unitary $o-d$ network flows on the graph $G = (V, E)$ and assume that each link *l* has integer capacity $C_l$."
   ]
  },
  {
   "cell_type": "code",
   "execution_count": 1,
   "metadata": {},
   "outputs": [
    {
     "data": {
      "image/png": "[encoded data removed]",
      "text/plain": [
       "<Figure size 432x288 with 1 Axes>"
      ]
     },
     "metadata": {},
     "output_type": "display_data"
    }
   ],
   "source": [
    "import networkx as nx\n",
    "\n",
    "G = nx.DiGraph()\n",
    "G.add_edges_from([(\"o\", \"a\"), (\"o\", \"b\"), (\"a\", \"b\"), (\"a\", \"d\"), (\"b\", \"d\")])\n",
    "pos = {\"o\": [0,1], \"a\":[1, 2], \"b\": [1,0], \"d\": [2, 1] }\n",
    "nx.draw_networkx_edge_labels(G, pos,\n",
    "                             edge_labels={(\"o\",\"a\"):'e1', (\"o\", \"b\"): \"e2\", \n",
    "                                          (\"a\", \"b\"): \"e3\",(\"a\", \"d\"): \"e4\",\n",
    "                                          (\"b\", \"d\"): \"e5\"\n",
    "                                         }, rotate=False)\n",
    "nx.draw(G, pos, with_labels=True, \n",
    "        node_color=\"white\", edgecolors=\"black\", node_size=700, width=0.7)"
   ]
  },
  {
   "cell_type": "markdown",
   "metadata": {},
   "source": [
    "**Point a)** Find the infimum of the total capacity that needs to be removed for no feasibile unitary flows from $o$ to $d$ to exist\n",
    "\n",
    "In order to have no feasibile unitary flows from $o$ to $d$, we need to find those edges or those combinations of edges that, if removed, prevent the flow to go through our network. Then we need to compute the minimum value of the capacity among the different combinations. \n",
    "\n",
    "We can immediately notice that two combinations of edges to be removed are given by the edges that are linked with the origin and the destination. In particular:\n",
    "- $e_1, e_2$\n",
    "- $e_4, e_5$\n",
    "- $e_1, e_5$\n",
    "\n",
    "Since we are considering capacities to be integer, another combination can be found considering the path including the edge $e_3$. In particular:\n",
    "- $e_2, e_3, e_4$\n",
    "\n",
    "This last combination of 3 edges is considered since none of the possible pairs of edges is already included in one of previous combinations. \n",
    "\n",
    "Now that we have spotted the edges to be removed, we need to consider the respective capacities, in order to find the infimum of the total capacity.\n",
    "It is immediate to state that the infimum of the total capacity is:\n",
    "\n",
    "<h5><center>$\\text{min} \\{(C_1 + C_2), (C_4 + C_5), (C_2 + C_3 + C_4)\\}$</center></h5>\n"
   ]
  },
  {
   "cell_type": "markdown",
   "metadata": {},
   "source": [
    "**Point b)** Assuming link capacities \n",
    "- $C_1 = C_4 = 3$\n",
    "- $C_2 = C_3 = C_5 = 2$\n",
    "\n",
    "we need to establish where 1 unit of additional capacity should be allocated in order to maximize the feasible throughput from $o$ to $d$. Once we have established that, we need to compute the maximal throughput."
   ]
  },
  {
   "cell_type": "code",
   "execution_count": 21,
   "metadata": {},
   "outputs": [
    {
     "data": {
      "image/png": "[encoded data removed]",
      "text/plain": [
       "<Figure size 432x288 with 1 Axes>"
      ]
     },
     "metadata": {},
     "output_type": "display_data"
    }
   ],
   "source": [
    "G[\"o\"][\"a\"]['capacity'] = 3\n",
    "G[\"o\"][\"b\"]['capacity'] = 2\n",
    "G[\"a\"][\"b\"]['capacity'] = 2\n",
    "G[\"a\"][\"d\"]['capacity'] = 3\n",
    "G[\"b\"][\"d\"]['capacity'] = 2\n",
    "nx.draw_networkx_edge_labels(G, pos,\n",
    "                             edge_labels={(\"o\",\"a\"):'3', (\"o\", \"b\"): \"2\", \n",
    "                                          (\"a\", \"b\"): \"2\",(\"a\", \"d\"): \"3\",\n",
    "                                          (\"b\", \"d\"): \"2\"\n",
    "                                         },rotate=False)\n",
    "nx.draw(G, pos, with_labels=True, \n",
    "        node_color=\"white\", edgecolors=\"black\", node_size=700, width=0.7)"
   ]
  },
  {
   "cell_type": "markdown",
   "metadata": {},
   "source": [
    "First of all, we can compute the *min-cut capacity*:\n",
    "- $U=\\{o\\},U^C=\\{a, b, d\\}$ -> $C_U = 5$\n",
    "- $U=\\{o, a\\},U^C=\\{b, d\\}$ -> $C_U = 7$\n",
    "- $U=\\{o, b\\},U^C=\\{a, d\\}$ -> $C_U = 5$\n",
    "- $U=\\{o, a, b\\},U^C=\\{d\\}$ -> $C_U = 5$\n",
    "\n",
    "So the *min-cut capacity* is $ C^*_{o, d} = \\text{min}\\{C_U\\} = \\text{min}\\{5, 7, 5, 5\\} = 5$. For the Max-flow min-cut theorem we know that the maximum throughput $\\tau^*_{o, d} = 5$, i.e. it coincides with the minimum cut capacity. \n",
    "\n",
    "For the sake of clarity, we exploit the `networkx.algorithms.maximum_flow` and `networkx.algorithms.flow.minimum_cut` to confirm the result manually computed."
   ]
  },
  {
   "cell_type": "code",
   "execution_count": 22,
   "metadata": {},
   "outputs": [
    {
     "name": "stdout",
     "output_type": "stream",
     "text": [
      "Maximum flow:  (5, {'o': {'a': 3, 'b': 2}, 'a': {'b': 0, 'd': 3}, 'b': {'d': 2}, 'd': {}})\n",
      "Min-cut capacity:  (5, ({'b', 'a', 'o'}, {'d'}))\n"
     ]
    }
   ],
   "source": [
    "print(\"Maximum flow: \", nx.algorithms.maximum_flow(G, \"o\", \"d\"))\n",
    "print(\"Min-cut capacity: \", nx.algorithms.flow.minimum_cut(G, \"o\", \"d\"))"
   ]
  },
  {
   "cell_type": "markdown",
   "metadata": {},
   "source": [
    "It is immediate to notice that is not possible to increase the *min-cut capacity*  with just 1 unit of additional capacity. Let's take for example $e_1$ and add 1 unit of capacity on it. Now let's compute the new *cut capacities*:\n",
    "\n",
    "- $U=\\{o\\},U^C=\\{a, b, d\\}$ -> $C_U = 6$\n",
    "- $U=\\{o, b\\},U^C=\\{a, d\\}$ -> $C_U = 6$\n",
    "- $U=\\{o, a\\},U^C=\\{b, d\\}$ -> $C_U = 7$\n",
    "- $U=\\{o, a, b\\},U^C=\\{d\\}$ -> $C_U = 5$\n",
    "\n",
    "As we can see, the *min-cut capacity* $ C^*_{o, d} = min\\{C_U\\} = \\text{min}\\{6, 7, 6, 5\\} = 5$ is not increased. This reasoning can be carried out for any edge of the graph"
   ]
  },
  {
   "cell_type": "markdown",
   "metadata": {},
   "source": [
    "**Point c)** Now the question is the same, but we have 2 units of additional capacity rather than only 1.\n",
    "\n",
    "It is immediate to notice that it is useless to add the whole 2 units on just one edge, because it would turn out to be the same situation already seen in point *b)*, where we may be able to increase the capacity of certain cuts, but, overall the *min-cut capacity* will remain the same.\n",
    "\n",
    "Instead, if we assign 1 unit of capacities to two different edges we can find 3 different combinations of edges able to increase the *min-cut capacity* and, consequently, the maximum throughput.\n",
    "\n",
    "For all of the combinations of edges we consider the 4 different cut capacities:\n",
    "\n",
    "1. adding 1 unit of capacity on edges $(o, a)$ and $(a, d)$:\n",
    "    - $U=\\{o\\},U^C=\\{a, b, d\\}$ -> $C_U = 6$\n",
    "    - $U=\\{o, b\\},U^C=\\{a, d\\}$ -> $C_U = 6$\n",
    "    - $U=\\{o, a\\},U^C=\\{b, d\\}$ -> $C_U = 8$\n",
    "    - $U=\\{o, a, b\\},U^C=\\{d\\}$ -> $C_U = 6$\n",
    "2. adding 1 unit of capacity on edges $(o, b)$ and $(b, d)$:\n",
    "    - $U=\\{o\\},U^C=\\{a, b, d\\}$ -> $C_U = 6$\n",
    "    - $U=\\{o, b\\},U^C=\\{a, d\\}$ -> $C_U = 6$\n",
    "    - $U=\\{o, a\\},U^C=\\{b, d\\}$ -> $C_U = 8$\n",
    "    - $U=\\{o, a, b\\},U^C=\\{d\\}$ -> $C_U = 6$\n",
    "3. adding 1 unit of capacity on edges $(o, a)$ and $(b, d)$:\n",
    "    - $U=\\{o\\},U^C=\\{a, b, d\\}$ -> $C_U = 6$\n",
    "    - $U=\\{o, b\\},U^C=\\{a, d\\}$ -> $C_U = 6$\n",
    "    - $U=\\{o, a\\},U^C=\\{b, d\\}$ -> $C_U = 7$\n",
    "    - $U=\\{o, a, b\\},U^C=\\{d\\}$ -> $C_U = 6$\n",
    "    \n",
    "As we can easily see, for these three combination the *min-cut capacity* is:\n",
    "<h5><center>$ C^*_{o, d} = \\text{min}\\{C_U\\} = \\text{min}\\{6, 6, 8, 6\\} = \\text{min}\\{6, 6, 8, 6\\} = \\text{min}\\{6, 6, 7, 6\\} = 6 = \\tau^*_{o, d}$</center></h5>\n",
    "\n",
    "which once again, for the Max-flow min-cut theorem, corresponds to the otpimal throughput.\n",
    "\n",
    "Just to confirm our results, we compute the maximum throughput and the min-cut capacity using the algorithms already exploited in point *b)*. For brevity's sake, we just consider one of the possible configuration. "
   ]
  },
  {
   "cell_type": "code",
   "execution_count": 28,
   "metadata": {},
   "outputs": [
    {
     "name": "stdout",
     "output_type": "stream",
     "text": [
      "Maximum flow:  (6, {'o': {'a': 4, 'b': 2}, 'a': {'b': 1, 'd': 3}, 'b': {'d': 3}, 'd': {}})\n",
      "Min-cut capacity:  (6, ({'b', 'a', 'o'}, {'d'}))\n"
     ]
    }
   ],
   "source": [
    "G[\"o\"][\"a\"]['capacity'] = 3 + 1\n",
    "G[\"o\"][\"b\"]['capacity'] = 2\n",
    "G[\"a\"][\"b\"]['capacity'] = 2\n",
    "G[\"a\"][\"d\"]['capacity'] = 3\n",
    "G[\"b\"][\"d\"]['capacity'] = 2 + 1\n",
    "print(\"Maximum flow: \", nx.algorithms.maximum_flow(G, \"o\", \"d\"))\n",
    "print(\"Min-cut capacity: \", nx.algorithms.flow.minimum_cut(G, \"o\", \"d\"))"
   ]
  },
  {
   "cell_type": "markdown",
   "metadata": {},
   "source": [
    "**Point d)** Now we solve the same problem, but with 4 units of additional capacity. For all of the combinations of edges we consider the 4 different cut capacities: \n",
    "\n",
    "1. Adding 1 unit of capacity on the edges $(o,a)$, $(a,d)$, $(o,b)$ and $(b,d)$:\n",
    "    - $U=\\{o\\},U^C=\\{a, b, d\\}$ -> $C_U = 7$\n",
    "    - $U=\\{o, b\\},U^C=\\{a, d\\}$ -> $C_U = 7$\n",
    "    - $U=\\{o, a\\},U^C=\\{b, d\\}$ -> $C_U = 9$\n",
    "    - $U=\\{o, a, b\\},U^C=\\{d\\}$ -> $C_U = 7$\n",
    "\n",
    "2. Adding 2 units of capacity  respectively on the edges $(o,a)$ and $(a,d)$:\n",
    "    - $U=\\{o\\},U^C=\\{a, b, d\\}$ -> $C_U = 7$\n",
    "    - $U=\\{o, b\\},U^C=\\{a, d\\}$ -> $C_U = 7$\n",
    "    - $U=\\{o, a\\},U^C=\\{b, d\\}$ -> $C_U = 9$\n",
    "    - $U=\\{o, a, b\\},U^C=\\{d\\}$ -> $C_U = 7$\n",
    "\n",
    "3. Adding 2 units of capacity  respectively on the edges $(o,b)$ and $(b,d)$:\n",
    "    - $U=\\{o\\},U^C=\\{a, b, d\\}$ -> $C_U = 7$\n",
    "    - $U=\\{o, b\\},U^C=\\{a, d\\}$ -> $C_U = 7$\n",
    "    - $U=\\{o, a\\},U^C=\\{b, d\\}$ -> $C_U = 9$\n",
    "    - $U=\\{o, a, b\\},U^C=\\{d\\}$ -> $C_U = 7$\n",
    "\n",
    "4. Adding 2 units of capacity  respectively on the edges $(o,a)$ and $(b,d)$:\n",
    "    - $U=\\{o\\},U^C=\\{a, b, d\\}$ -> $C_U = 7$\n",
    "    - $U=\\{o, b\\},U^C=\\{a, d\\}$ -> $C_U = 9$\n",
    "    - $U=\\{o, a\\},U^C=\\{b, d\\}$ -> $C_U = 7$\n",
    "    - $U=\\{o, a, b\\},U^C=\\{d\\}$ -> $C_U = 7$\n",
    "\n",
    "5. Adding 1, 1, 2 units of capacity  respectively on the edges $(o,a)$, $(o,b)$ and $(b,d)$:\n",
    "    - $U=\\{o\\},U^C=\\{a, b, d\\}$ -> $C_U = 7$\n",
    "    - $U=\\{o, b\\},U^C=\\{a, d\\}$ -> $C_U = 8$\n",
    "    - $U=\\{o, a\\},U^C=\\{b, d\\}$ -> $C_U = 8$\n",
    "    - $U=\\{o, a, b\\},U^C=\\{d\\}$ -> $C_U = 7$\n",
    "    \n",
    "6. Addding (2, 1, 1) units of capacity respectively on the edges $(o, a)$, $(a, d)$, $(b, d)$:\n",
    "    - $U=\\{o\\},U^C=\\{a, b, d\\}$ -> $C_U = 7$\n",
    "    - $U=\\{o, b\\},U^C=\\{a, d\\}$ -> $C_U = 8$\n",
    "    - $U=\\{o, a\\},U^C=\\{b, d\\}$ -> $C_U = 8$\n",
    "    - $U=\\{o, a, b\\},U^C=\\{d\\}$ -> $C_U = 7$\n",
    "    \n",
    "As we can easily see, for these three combination the *min-cut capacity* is:\n",
    "<h5><center>$ C^*_{o, d} = \\text{min}\\{C_U\\} = 7 = \\tau^*_{o, d}$</center></h5>\n",
    "\n",
    "Among the optimal allocations, we need to select the allocation that maximizes the sum of the cut capacities. It is immediate to notice that all of the sums of the *min-cut capacities* them maximize this sum (specifically, $\\sum_{i=1}^{4} C_{U_{i}} = 30$).\n",
    "\n",
    "Once again, just to confirm our results, we compute the maximum throughput and the min-cut capacity using the algorithms already exploited in points *b)* and *c)*. For brevity's sake, we just consider one of the possible configuration."
   ]
  },
  {
   "cell_type": "code",
   "execution_count": 29,
   "metadata": {},
   "outputs": [
    {
     "name": "stdout",
     "output_type": "stream",
     "text": [
      "Maximum flow:  (7, {'o': {'a': 5, 'b': 2}, 'a': {'b': 1, 'd': 4}, 'b': {'d': 3}, 'd': {}})\n",
      "Min-cut capacity:  (7, ({'b', 'a', 'o'}, {'d'}))\n"
     ]
    }
   ],
   "source": [
    "G[\"o\"][\"a\"]['capacity'] = 3 + 2\n",
    "G[\"o\"][\"b\"]['capacity'] = 2 \n",
    "G[\"a\"][\"b\"]['capacity'] = 2\n",
    "G[\"a\"][\"d\"]['capacity'] = 3 + 1\n",
    "G[\"b\"][\"d\"]['capacity'] = 2 + 1\n",
    "print(\"Maximum flow: \", nx.algorithms.maximum_flow(G, \"o\", \"d\"))\n",
    "print(\"Min-cut capacity: \", nx.algorithms.flow.minimum_cut(G, \"o\", \"d\"))"
   ]
  },
  {
   "cell_type": "markdown",
   "metadata": {},
   "source": [
    "## Exercise 2"
   ]
  },
  {
   "cell_type": "markdown",
   "metadata": {},
   "source": [
    "Consider the following problem. There are a set of people $(p_1, p_2, p_3, p_4)$ and a set of books $(b_1, b_2, b_3, b_4)$. Each person is interested in a subset of books, specifically\n",
    "<h5><center>$p_1 \\rightarrow (b_1 , b_2), p_2 \\rightarrow (b_2 ,b_3), p_3 \\rightarrow (b_1 , b_4), p_4 \\rightarrow (b_1, b_2, b_4)$</center></h5>\n",
    "\n",
    "**Point a)** Represent the interest pattern by using a simple bipartite graph."
   ]
  },
  {
   "cell_type": "code",
   "execution_count": 34,
   "metadata": {},
   "outputs": [
    {
     "data": {
      "image/png": "[encoded data removed]",
      "text/plain": [
       "<Figure size 432x288 with 1 Axes>"
      ]
     },
     "metadata": {},
     "output_type": "display_data"
    }
   ],
   "source": [
    "import networkx as nx\n",
    "import matplotlib.pyplot as plt\n",
    "%matplotlib inline\n",
    "\n",
    "BG = nx.Graph()\n",
    "BG.add_edges_from([(\"p1\",'b1'),(\"p1\",'b2'),(\"p2\",'b2'),(\"p2\",'b3'), (\"p3\",'b1'),(\"p3\",'b4'),(\"p4\",'b1'), (\"p4\",'b2'),(\"p4\",'b4')])\n",
    "\n",
    "l, r = nx.bipartite.sets(BG)\n",
    "\n",
    "pos = {'p1':[0,1.5], 'p2':[0,1], 'p3':[0,0.5], 'p4':[0,0], 'b1':[1,1.5], 'b2':[1,1], 'b3':[1,0.5], 'b4':[1,0]}\n",
    "nx.draw(BG, pos=pos, with_labels = True,\n",
    "       node_color=\"white\", edgecolors=\"black\", node_size=700, width=0.7)"
   ]
  },
  {
   "cell_type": "markdown",
   "metadata": {},
   "source": [
    "**Point b)** We are asked to exploit max-flow problems to establish whether there exists a perfect matching that assigns to every person a book of interest. If a perfect matching exists, find at least a perfect matching.\n",
    "\n",
    "\n",
    "Given a simple bipartite graph $BG=(V,E)$, in order to exploit analogy between the $o-d$ max-flow problem and the perfect matching, we need to consider the directed capacitated graph $B1$, with node set $V \\cup s \\cup t$, and edge set constructed as follows:\n",
    "- for every node $p_i \\in (p_1, p_2, p_3, p_4) = V_0$, add an edge (s,p_i), with capacity 1;\n",
    "- for every node $b_i \\in (b_1, b_2, b_3, b_4) = V_1$, add an edge (b_i,t), with capacity 1;\n",
    "- for every undirected edge $(i,j)$ in $BG$, add a directed edge $(i,j)$ in $B1$ with capacity 1.\n",
    "\n",
    "Let us construct $B1$."
   ]
  },
  {
   "cell_type": "code",
   "execution_count": 93,
   "metadata": {},
   "outputs": [
    {
     "data": {
      "image/png": "[encoded data removed]",
      "text/plain": [
       "<Figure size 432x288 with 1 Axes>"
      ]
     },
     "metadata": {},
     "output_type": "display_data"
    }
   ],
   "source": [
    "B1 = nx.DiGraph()\n",
    "# Edges of BG\n",
    "B1.add_edges_from([(\"p1\",'b1'),(\"p1\",'b2'),(\"p2\",'b2'),(\"p2\",'b3'), (\"p3\",'b1'),(\"p3\",'b4'),(\"p4\",'b1'), (\"p4\",'b2'),(\"p4\",'b4')])\n",
    "# Edges to link nodes of BG with s and t\n",
    "B1.add_edges_from([(\"s\",\"p1\"),(\"s\",\"p2\"),(\"s\",\"p3\"),(\"s\",\"p4\"),(\"b1\",\"t\"),(\"b2\",\"t\"),(\"b3\",\"t\"),(\"b4\",\"t\")])\n",
    "# Set capacity in order to have perfect matching\n",
    "# source\n",
    "B1[\"s\"][\"p1\"][\"capacity\"] = 1\n",
    "B1[\"s\"][\"p2\"][\"capacity\"] = 1\n",
    "B1[\"s\"][\"p3\"][\"capacity\"] = 1\n",
    "B1[\"s\"][\"p4\"][\"capacity\"] = 1\n",
    "# p1\n",
    "B1[\"p1\"][\"b1\"][\"capacity\"] = 1\n",
    "B1[\"p1\"][\"b2\"][\"capacity\"] = 1\n",
    "\n",
    "# p2\n",
    "B1[\"p2\"][\"b2\"][\"capacity\"] = 1\n",
    "B1[\"p2\"][\"b3\"][\"capacity\"] = 1\n",
    "\n",
    "# p3\n",
    "B1[\"p3\"][\"b1\"][\"capacity\"] = 1\n",
    "B1[\"p3\"][\"b4\"][\"capacity\"] = 1\n",
    "\n",
    "# p4\n",
    "B1[\"p4\"][\"b1\"][\"capacity\"] = 1\n",
    "B1[\"p4\"][\"b2\"][\"capacity\"] = 1\n",
    "B1[\"p4\"][\"b4\"][\"capacity\"] = 1\n",
    "\n",
    "# sink\n",
    "B1[\"b1\"][\"t\"][\"capacity\"] = 1\n",
    "B1[\"b2\"][\"t\"][\"capacity\"] = 1\n",
    "B1[\"b3\"][\"t\"][\"capacity\"] = 1\n",
    "B1[\"b4\"][\"t\"][\"capacity\"] = 1\n",
    "\n",
    "pos[\"s\"] = [-1, 0.75]\n",
    "pos[\"t\"] = [2, 0.75]\n",
    "nx.draw(B1,pos,with_labels=True,\n",
    "       node_color=\"white\", edgecolors=\"black\", node_size=700, width=0.7)"
   ]
  },
  {
   "cell_type": "markdown",
   "metadata": {},
   "source": [
    "There is an analogy between perfect matchings and maximal flow on this auxiliary network $B1$. In particular, a $V_0$-perfect matching on $BG$ exists if and only if it there exists a flow with throughput $|V_0|$ on the network $B1$.\n",
    "\n",
    "Let's exploit the `networkx.algorithms.maximum_flow` to find the perfect matching"
   ]
  },
  {
   "cell_type": "code",
   "execution_count": 94,
   "metadata": {},
   "outputs": [
    {
     "name": "stdout",
     "output_type": "stream",
     "text": [
      "Books bought in the perfect matching:  4\n",
      "Which book do people buy respectively in the Perfect Matching?\n",
      "- p1 has bought book b2\n",
      "- p2 has bought book b3\n",
      "- p3 has bought book b1\n",
      "- p4 has bought book b4\n"
     ]
    }
   ],
   "source": [
    "max_flow = nx.algorithms.maximum_flow(B1, \"s\", \"t\")\n",
    "print(\"Books bought in the perfect matching: \", max_flow[0])\n",
    "\n",
    "def which_book(books):\n",
    "    for k, v in books.items():\n",
    "        if v == 1:\n",
    "            return k\n",
    "\n",
    "\n",
    "print(\"Which book do people buy respectively in the Perfect Matching?\")\n",
    "print(\"- p1 has bought book\", which_book(max_flow[1][\"p1\"]))\n",
    "print(\"- p2 has bought book\", which_book(max_flow[1][\"p2\"]))\n",
    "print(\"- p3 has bought book\", which_book(max_flow[1][\"p3\"]))\n",
    "print(\"- p4 has bought book\", which_book(max_flow[1][\"p4\"]))"
   ]
  },
  {
   "cell_type": "markdown",
   "metadata": {},
   "source": [
    "We now show the $V_0$-perfect matching found, i.e. a matching that matches every node in $V_0$."
   ]
  },
  {
   "cell_type": "code",
   "execution_count": 83,
   "metadata": {},
   "outputs": [
    {
     "data": {
      "image/png": "[encoded data removed]",
      "text/plain": [
       "<Figure size 432x288 with 1 Axes>"
      ]
     },
     "metadata": {},
     "output_type": "display_data"
    }
   ],
   "source": [
    "B1 = nx.Graph()\n",
    "B1.add_edges_from([(\"p1\",'b2'),(\"p2\",'b3'), (\"p3\",'b1'),(\"p4\",'b4')])\n",
    "\n",
    "pos = {'p1':[0,1.5], 'p2':[0,1], 'p3':[0,0.5], 'p4':[0,0], 'b1':[1,1.5], 'b2':[1,1], 'b3':[1,0.5], 'b4':[1,0]}\n",
    "nx.draw(B1, pos=pos, with_labels = True,\n",
    "       node_color=\"white\", edgecolors=\"black\", node_size=700, width=0.7)"
   ]
  },
  {
   "cell_type": "markdown",
   "metadata": {},
   "source": [
    "**Point c)** Assume now that there are multiple copies of book, specifically the distribution of the number of copies is $(2, 3, 2, 2)$, and there is no constraint on the number of books that each person can take. The only constraint is that each person can not take more copies of the same book. Use the analogy with max-flow problems to establish how many books of interest can be assigned in total.\n",
    "\n",
    "Once again, we need to consider the graph constructed in point b, in particular $B1$, before setting the capacities and applying the perfect matching algorithms.\n",
    "\n",
    "Now we have multiple constraints we need to address:\n",
    "1. firstly, we know that each person has no constraint on the number of books he can buy. \n",
    "    - this is codified setting the capacities of the edges between source *s* and people $p_i \\in (p_1, p_2, p_3, p_4)$ to infinite (see 3 rows below for deeper consideration);\n",
    "2. secondly, the constraint that each person can not take more copies of the same book has two effects:\n",
    "    - since there are only 4 books available, it is sufficient to set the capacity to each edge $s-p_i$ with $p_i \\in V_0$ to $4$.\n",
    "    - it is necessary to set the capacities on the edges between people $p_i \\in V_0$ and books $b_i \\in V_1$ to $1$.\n",
    "\n",
    "3. Lastly, to codify the number of copies $(2, 3, 2, 2)$, we need to set the capacities of the edges between the books $b_i \\in V_1$ and the destination $t$ to, respectively, $(2, 3, 2, 2)$."
   ]
  },
  {
   "cell_type": "code",
   "execution_count": 95,
   "metadata": {},
   "outputs": [
    {
     "data": {
      "image/png": "[encoded data removed]",
      "text/plain": [
       "<Figure size 432x288 with 1 Axes>"
      ]
     },
     "metadata": {},
     "output_type": "display_data"
    }
   ],
   "source": [
    "B2 = nx.DiGraph()\n",
    "# Edges of BG\n",
    "B2.add_edges_from([(\"p1\",'b1'),(\"p1\",'b2'),(\"p2\",'b2'),(\"p2\",'b3'), (\"p3\",'b1'),(\"p3\",'b4'),(\"p4\",'b1'), (\"p4\",'b2'),(\"p4\",'b4')])\n",
    "# Edges to link nodes of BG with s and t\n",
    "B2.add_edges_from([(\"s\",\"p1\"),(\"s\",\"p2\"),(\"s\",\"p3\"),(\"s\",\"p4\"),(\"b1\",\"t\"),(\"b2\",\"t\"),(\"b3\",\"t\"),(\"b4\",\"t\")])\n",
    "# Set capacity in order to have perfect matching\n",
    "# source\n",
    "B2[\"s\"][\"p1\"][\"capacity\"] = 4\n",
    "B2[\"s\"][\"p2\"][\"capacity\"] = 4\n",
    "B2[\"s\"][\"p3\"][\"capacity\"] = 4\n",
    "B2[\"s\"][\"p4\"][\"capacity\"] = 4\n",
    "\n",
    "# people - books\n",
    "B2[\"p1\"][\"b1\"][\"capacity\"] = 1\n",
    "B2[\"p1\"][\"b2\"][\"capacity\"] = 1\n",
    "B2[\"p2\"][\"b2\"][\"capacity\"] = 1\n",
    "B2[\"p2\"][\"b3\"][\"capacity\"] = 1\n",
    "B2[\"p3\"][\"b1\"][\"capacity\"] = 1\n",
    "B2[\"p3\"][\"b4\"][\"capacity\"] = 1\n",
    "B2[\"p4\"][\"b1\"][\"capacity\"] = 1\n",
    "B2[\"p4\"][\"b2\"][\"capacity\"] = 1\n",
    "B2[\"p4\"][\"b4\"][\"capacity\"] = 1\n",
    "\n",
    "# sink\n",
    "B2[\"b1\"][\"t\"][\"capacity\"] = 2\n",
    "B2[\"b2\"][\"t\"][\"capacity\"] = 3\n",
    "B2[\"b3\"][\"t\"][\"capacity\"] = 2\n",
    "B2[\"b4\"][\"t\"][\"capacity\"] = 2\n",
    "\n",
    "pos[\"s\"] = [-1, 0.75]\n",
    "pos[\"t\"] = [2, 0.75]\n",
    "labels = nx.get_edge_attributes(B2,'capacity')\n",
    "nx.draw_networkx_edge_labels(B2,pos,edge_labels=labels, rotate=False)\n",
    "nx.draw(B2, pos, with_labels=True,\n",
    "       node_color=\"white\", edgecolors=\"black\", node_size=700, width=0.7)"
   ]
  },
  {
   "cell_type": "markdown",
   "metadata": {},
   "source": [
    "Once again, we find the maximum throughput in order to establish how many books of interest can be assigned in total considering these capacities."
   ]
  },
  {
   "cell_type": "code",
   "execution_count": 114,
   "metadata": {},
   "outputs": [
    {
     "name": "stdout",
     "output_type": "stream",
     "text": [
      "Books of interest: 8\n",
      "b1 has been bought by ['p3', 'p4']\n",
      "b2 has been bought by ['p1', 'p2', 'p4']\n",
      "b3 has been bought by ['p2']\n",
      "b4 has been bought by ['p3', 'p4']\n"
     ]
    }
   ],
   "source": [
    "import collections\n",
    "\n",
    "max_flow2 = nx.algorithms.maximum_flow(B2, \"s\", \"t\")\n",
    "print(\"Books of interest:\", max_flow2[0])\n",
    "\n",
    "def which_people_bought_books(people_books):\n",
    "    interests = defaultdict(list)\n",
    "    for k, v in people_books.items():\n",
    "        if k.startswith(\"p\"):\n",
    "            for k1, v1 in v.items():\n",
    "                if v1 == 1:\n",
    "                    interests[k1].append(k)\n",
    "\n",
    "    return interests\n",
    "\n",
    "def print_interests(interests):\n",
    "    interests = dict(interests)\n",
    "    ordered_int = collections.OrderedDict(sorted(interests.items()))\n",
    "    for k,v in ordered_int.items():\n",
    "        print(k+\" has been bought by \" + str(v))\n",
    "\n",
    "\n",
    "print_interests(which_people_bought_books(max_flow2[1]))"
   ]
  },
  {
   "cell_type": "markdown",
   "metadata": {},
   "source": [
    "**Point d)** It is immediate to notice that the maximum throughput found in the point *c)* is not maximal: this can be simply see looking at the residual capacity on edge $b_3 - t$. In this case, we have still one unit of capacity to be saturated.\n",
    "\n",
    "As a consequence, it is reasonable to sell one copy of the book $b_3$, since we have two copies of these books available, but only one is sold. Instead, it is better to buy a copy of the book $b_1$, since we have 3 people interested in it, but only 2 copies available. Now, the new capacities on the edges between books and the sink are $(3, 3, 1, 2)$\n",
    "\n",
    "We can easily verify these logical statements with the appropriate maximum algorithm."
   ]
  },
  {
   "cell_type": "code",
   "execution_count": 117,
   "metadata": {},
   "outputs": [
    {
     "name": "stdout",
     "output_type": "stream",
     "text": [
      "Books of interest: 9\n",
      "b1 has been bought by ['p1', 'p3', 'p4']\n",
      "b2 has been bought by ['p1', 'p2', 'p4']\n",
      "b3 has been bought by ['p2']\n",
      "b4 has been bought by ['p3', 'p4']\n"
     ]
    }
   ],
   "source": [
    "# sink\n",
    "B2[\"b1\"][\"t\"][\"capacity\"] = 2 + 1\n",
    "B2[\"b2\"][\"t\"][\"capacity\"] = 3\n",
    "B2[\"b3\"][\"t\"][\"capacity\"] = 2 - 1\n",
    "B2[\"b4\"][\"t\"][\"capacity\"] = 2\n",
    "\n",
    "max_flow3 = nx.algorithms.maximum_flow(B2, \"s\", \"t\")\n",
    "print(\"Books of interest:\", max_flow3[0])\n",
    "print_interests(which_people_bought_books(max_flow3[1]))"
   ]
  },
  {
   "cell_type": "markdown",
   "metadata": {},
   "source": [
    "## Exercise 3"
   ]
  },
  {
   "cell_type": "markdown",
   "metadata": {},
   "source": [
    "We are given an approximate highway network in Los Angeles, which covers part of the real highway network: each node represents an intersection between highways (and some of the area around), and each link represent an highway. "
   ]
  },
  {
   "cell_type": "code",
   "execution_count": 15,
   "metadata": {},
   "outputs": [
    {
     "data": {
      "image/png": "[encoded data removed]",
      "text/plain": [
       "<Figure size 792x576 with 1 Axes>"
      ]
     },
     "metadata": {},
     "output_type": "display_data"
    }
   ],
   "source": [
    "import matplotlib.pyplot as plt\n",
    "\n",
    "G = nx.DiGraph()\n",
    "G.add_edges_from([(1,2),(2,3),(3,4),(4,5),(1,6),(6,7),(7,8),(8,9),(9,13),(2,7),(3,8),\\\n",
    "                  (3,9),(4,9),(5,14),(6,10),(10,11),(10,15),(7,10),(8,11),(9,12),\\\n",
    "                  (11,12),(12,13),(13,14),(11,15),(13,17),(14,17),(15,16),(16,17)\n",
    "                ])\n",
    "\n",
    "pos = {1: [-1,10], 2: [2,10], 3: [4,10], 4:[7.5,10], 5:[11,9], 6:[0,5], 7:[2,5], 8:[4,5], 9 : [6,7],\\\n",
    "       10:[2,-1], 11:[4,-1], 12:[6,-1], 13:[9,-2], 14:[11,-2], 15:[4,-4], 16: [7,-4.5], 17: [11,-5]}\n",
    "\n",
    "plt.figure(3,figsize=(11, 8)) \n",
    "nx.draw_networkx_edge_labels(G,pos,edge_labels={(1,2):'l1',(1,6):'l5',(2,3):'l2',(2,7):'l10',(3,4):'l3',(3,9):'l12',(3,8):'l11',(4,5):'l4',(4,9):'l13',(5,14):'l14',(6,7):'l6',\n",
    "                                                 (6,10):'l15',(7,8):'l7',(7,10):'l18',(8,9):'l1',(8,11):'l19',(9,12):'l20',(9,13):'l9',(10,11):'l16',(10,15):'l17',(11,12):'l21',\n",
    "                                                 (11,15):'l24',(12,13):'l22',(13,14):'l23',(13,17):'l25',(14,17):'l26',(15,16):'l27',(16,17):'l28'},rotate=False)\n",
    "\n",
    "nx.draw(G, pos, with_labels=True,\n",
    "        node_color=\"white\", edgecolors=\"black\", node_size=700, width=0.7)\n",
    "plt.show()"
   ]
  },
  {
   "cell_type": "markdown",
   "metadata": {},
   "source": [
    "Along with this network, we are given different files, in particular:\n",
    "- *traffic.mat* contains the node-incidence matrix $B$\n",
    "- *capacities.mat* contains the capacities $C_{e_i}$ of each link $e_i \\in {e_1, ..., e_28}$;\n",
    "- *traveltime.mat* contains the minimum travelling times $l_e$ for each edge.\n",
    "- *flow.mat* contains the flow vector\n",
    "\n",
    "Let's upload and store these files"
   ]
  },
  {
   "cell_type": "code",
   "execution_count": 16,
   "metadata": {
    "scrolled": true
   },
   "outputs": [],
   "source": [
    "import scipy.io\n",
    "\n",
    "file = scipy.io.loadmat(\"traffic.mat\")\n",
    "traffic = file.get(\"traffic\")\n",
    "file = scipy.io.loadmat(\"capacities.mat\")\n",
    "capacities = file.get(\"capacities\")\n",
    "capacities = capacities.reshape(28,)\n",
    "file = scipy.io.loadmat(\"traveltime.mat\")\n",
    "traveltime = file.get(\"traveltime\")\n",
    "traveltime = traveltime.reshape(28,)\n",
    "file = scipy.io.loadmat(\"flow.mat\")\n",
    "flow = file.get(\"flow\")\n",
    "flow = flow.reshape(28,)\n",
    "#print(\"Capacities: \\n\", capacities)\n",
    "#print(\"Traveltime: \\n\", traveltime)\n",
    "#print(\"Flow: \\n\", flow)\n",
    "#print(\"Traffic: \\n\", traffic)"
   ]
  },
  {
   "cell_type": "markdown",
   "metadata": {},
   "source": [
    "**Point a)** First of all, we need to find the shortest path between node 1 and 17. In this case, we need to consider the fastest path, i.e. the path with the shortest travelling time in an empty network (so without considering the capacities).\n",
    "\n",
    "To solve this problem (and the following ones) we exploit CVXPY, which is a Python-embedded modeling language for convex optimization problems, that allows to express problems in a natural way that follows the math. We use to solve separable convex network flow optimization arises in several applications and, in particular the shortest paths between origin and destination and system optimum traffic flows problem. The theory behind this type of problem will be further analyzed in the report. However, here, we report a bit of it, just to have it always at hand and for completeness.\n",
    "\n",
    "Given a multigraph $(V,E)$, an **exogenous network flow** is a vector ${\\nu} \\in \\mathrm{R}^V$ such that\n",
    "\\begin{equation}\n",
    "\t\\sum_{i \\in V} \\nu_i = 0.\n",
    "\\end{equation}\n",
    "A network flow is a vector $f \\in \\mathrm{R}^E$ satisfying a positivity constraint and a mass conservation constraints, i.e.,\n",
    "\\begin{equation}\n",
    " f \\ge \\mathbf{0}, \\quad Bf = \\nu.\n",
    "\\end{equation}\n",
    "Every edge is endowed with a separable non-decreasing convex cost function $\\psi_e(f_e)$ such that $\\psi_e(0)=0$. \n",
    "\n",
    "Given an exogenous flow $\\nu$ and a network with node-edge matrix $B$, we study the following optimization problem:\n",
    "\\begin{equation}\n",
    "\\begin{aligned}\n",
    "\tf^* \\in \\ & \\underset{\\substack{f \\in \\mathrm{R}^{E}_+ \\\\ B f = \\nu}}{\\arg\\min}\n",
    "\t& & \\sum_{e \\in E} \\psi_e (f_e).\n",
    "\\end{aligned}\n",
    "\\end{equation}\n",
    "The ratio $\\psi_e(f_e) / f_e$ may be interpreted as the cost per unit of flow sent along the edge $e$. The convexity of $\\psi_e(f_e)$ is thus equivalent to requiring that the marginal cost for sending some flow on each edge is non-decreasing in the flow itself.\n",
    "\n",
    "In our case we are dealing with a shorthest path problem, so $\\psi_e(f_e) = l_e f_e$, where $l_e$ is the traveltime on edge $e$. As we can see, the cost for sending a unit of flow on the edge $e$ does not depend on $f_e$, which means that congestion effects are not taken into account. Congestion effects appear when considering strictly convex cost functions."
   ]
  },
  {
   "cell_type": "code",
   "execution_count": 17,
   "metadata": {},
   "outputs": [
    {
     "name": "stdout",
     "output_type": "stream",
     "text": [
      "Optimal f:\n",
      " [1.00000000e+00 1.00000000e+00 1.19595586e-11 5.07129566e-12\n",
      " 1.49988426e-10 1.33658919e-10 8.54100951e-11 3.78266693e-11\n",
      " 9.99999998e-01 8.90389208e-12 3.91753215e-11 1.00000000e+00\n",
      " 6.88981434e-12 5.07752202e-12 1.62878397e-11 5.42208640e-11\n",
      " 1.91831469e-11 5.71274798e-11 8.67469798e-11 1.99611946e-09\n",
      " 1.29358670e-10 2.12547935e-09 4.14939343e-11 1.16133834e-11\n",
      " 1.00000000e+00 4.65871714e-11 3.08330688e-11 3.08494486e-11]\n"
     ]
    }
   ],
   "source": [
    "import cvxpy as cp\n",
    "import numpy as np\n",
    "# Problem data.\n",
    "B = traffic # incident_matrix\n",
    "n_edges = len(G.edges)\n",
    "\n",
    "# exogenous flow vector: one unit of flow enters the origin and exits the destination node\n",
    "tau = 1\n",
    "nu = np.array([1, 0, 0, 0, 0, 0, 0, 0, 0, 0, 0, 0, 0, 0, 0, 0, -1]) * tau\n",
    "\n",
    "# l stores the coefficients of the linear terms of the objective function.\n",
    "l = traveltime \n",
    "\n",
    "# Construct the problem.\n",
    "f_sp = cp.Variable(n_edges)\n",
    "objective = cp.Minimize(l.T @ f_sp) \n",
    "constraints = [B @ f_sp == nu, f_sp >=0]\n",
    "prob = cp.Problem(objective, constraints)\n",
    "\n",
    "# The optimal objective value is returned by `prob.solve()`.\n",
    "result_sp = prob.solve()\n",
    "\n",
    "# The optimal value for f is stored in `f.value`.\n",
    "print(\"Optimal f:\\n\", f_sp.value)"
   ]
  },
  {
   "cell_type": "markdown",
   "metadata": {},
   "source": [
    "The following characterization can be used to individuate the shortest path: if the flow on a path $p$ is positive (i.e., if the flow on all the edges that compose the path is positive), then $p$ is a shortest path. In this case, since all the values are positive, we search for the biggest ones, in particular, the ones which tend to $1$. \n",
    "\n",
    "From this latter observation, we can easily see that the shortest path is identified by edges $(e_1, e_2, e_{12}, e_9, e_{25})$. The shortest path is shown in the graph below."
   ]
  },
  {
   "cell_type": "code",
   "execution_count": 29,
   "metadata": {},
   "outputs": [
    {
     "data": {
      "image/png": "[encoded data removed]",
      "text/plain": [
       "<Figure size 576x432 with 1 Axes>"
      ]
     },
     "metadata": {},
     "output_type": "display_data"
    }
   ],
   "source": [
    "G1 = nx.DiGraph()\n",
    "G1.add_edges_from([(1,2),(2,3),(3,9),(9,13),(13,17)])\n",
    "\n",
    "pos = {1: [-1,10], 2: [2,10], 3: [4,10], 9 : [6,7], 13:[9,-2], 17: [11,-5]}\n",
    "\n",
    "plt.figure(3,figsize=(8, 6)) \n",
    "nx.draw_networkx_edge_labels(G1,pos,edge_labels={(1,2):'l1', (2,3):'l2',(3,9):'l12',(9,13):'l9',(13,17):'l25'},rotate=False)\n",
    "\n",
    "nx.draw(G1, pos, with_labels=True,\n",
    "        node_color=\"white\", edgecolors=\"black\", node_size=700, width=0.7)\n",
    "plt.show()"
   ]
  },
  {
   "cell_type": "markdown",
   "metadata": {},
   "source": [
    "However, since this is not the most efficient way to do this, and just to be sure, we exploit the NetworkX built-in functions that compute the shortest path without using convex optimization."
   ]
  },
  {
   "cell_type": "code",
   "execution_count": 19,
   "metadata": {},
   "outputs": [
    {
     "name": "stdout",
     "output_type": "stream",
     "text": [
      "The nodes in the shortest path are:  [1, 2, 3, 9, 13, 17]\n"
     ]
    }
   ],
   "source": [
    "G[1][2]['weight'] = traveltime[0]\n",
    "G[2][3]['weight'] = traveltime[1]\n",
    "G[3][4]['weight'] = traveltime[2]\n",
    "G[4][5]['weight'] = traveltime[3]\n",
    "G[1][6]['weight'] = traveltime[4]\n",
    "G[6][7]['weight'] = traveltime[5]\n",
    "G[7][8]['weight'] = traveltime[6]\n",
    "G[8][9]['weight'] = traveltime[7]\n",
    "G[9][13]['weight'] = traveltime[8]\n",
    "G[2][7]['weight'] = traveltime[9]\n",
    "G[3][8]['weight'] = traveltime[10]\n",
    "G[3][9]['weight'] = traveltime[11]\n",
    "G[4][9]['weight'] = traveltime[12]\n",
    "G[5][14]['weight'] = traveltime[13]\n",
    "G[6][10]['weight'] = traveltime[14]\n",
    "G[10][11]['weight'] = traveltime[15]\n",
    "G[10][15]['weight'] = traveltime[16]\n",
    "G[7][10]['weight'] = traveltime[17]\n",
    "G[8][11]['weight'] = traveltime[18]\n",
    "G[9][12]['weight'] = traveltime[19]\n",
    "G[11][12]['weight'] = traveltime[20]\n",
    "G[12][13]['weight'] = traveltime[21]\n",
    "G[13][14]['weight'] = traveltime[22]\n",
    "G[11][15]['weight'] = traveltime[23]\n",
    "G[13][17]['weight'] = traveltime[24]\n",
    "G[14][17]['weight'] = traveltime[25]\n",
    "G[15][16]['weight'] = traveltime[26]\n",
    "G[16][17]['weight'] = traveltime[27]\n",
    "\n",
    "shortest_path = nx.algorithms.shortest_paths.generic.shortest_path(G, source = 1, target=17, weight = 'weight')\n",
    "print(\"The nodes in the shortest path are: \", shortest_path)"
   ]
  },
  {
   "cell_type": "markdown",
   "metadata": {},
   "source": [
    "This confirms what we already found solving the convex optimization problem."
   ]
  },
  {
   "cell_type": "markdown",
   "metadata": {},
   "source": [
    "**Point b)** Now we need to find the maximum flow between node 1 and 17. Once again we exploit the NetworkX built-in functions to do that. "
   ]
  },
  {
   "cell_type": "code",
   "execution_count": 20,
   "metadata": {
    "scrolled": true
   },
   "outputs": [
    {
     "data": {
      "text/plain": [
       "(22448,\n",
       " {1: {2: 8741, 6: 13707},\n",
       "  2: {3: 8741, 7: 0},\n",
       "  3: {4: 0, 8: 0, 9: 8741},\n",
       "  4: {5: 0, 9: 0},\n",
       "  5: {14: 0},\n",
       "  6: {7: 4624, 10: 9083},\n",
       "  7: {8: 4624, 10: 0},\n",
       "  8: {9: 4624, 11: 0},\n",
       "  9: {13: 6297, 12: 7068},\n",
       "  13: {14: 3835, 17: 10355},\n",
       "  14: {17: 3835},\n",
       "  10: {11: 825, 15: 8258},\n",
       "  11: {12: 825, 15: 0},\n",
       "  15: {16: 8258},\n",
       "  12: {13: 7893},\n",
       "  17: {},\n",
       "  16: {17: 8258}})"
      ]
     },
     "execution_count": 20,
     "metadata": {},
     "output_type": "execute_result"
    }
   ],
   "source": [
    "G[1][2]['capacity'] = capacities[0]\n",
    "G[2][3]['capacity'] = capacities[1]\n",
    "G[3][4]['capacity'] = capacities[2]\n",
    "G[4][5]['capacity'] = capacities[3]\n",
    "G[1][6]['capacity'] = capacities[4]\n",
    "G[6][7]['capacity'] = capacities[5]\n",
    "G[7][8]['capacity'] = capacities[6]\n",
    "G[8][9]['capacity'] = capacities[7]\n",
    "G[9][13]['capacity'] = capacities[8]\n",
    "G[2][7]['capacity'] = capacities[9]\n",
    "G[3][8]['capacity'] = capacities[10]\n",
    "G[3][9]['capacity'] = capacities[11]\n",
    "G[4][9]['capacity'] = capacities[12]\n",
    "G[5][14]['capacity'] = capacities[13]\n",
    "G[6][10]['capacity'] = capacities[14]\n",
    "G[10][11]['capacity'] = capacities[15]\n",
    "G[10][15]['capacity'] = capacities[16]\n",
    "G[7][10]['capacity'] = capacities[17]\n",
    "G[8][11]['capacity'] = capacities[18]\n",
    "G[9][12]['capacity'] = capacities[19]\n",
    "G[11][12]['capacity'] = capacities[20]\n",
    "G[12][13]['capacity'] = capacities[21]\n",
    "G[13][14]['capacity'] = capacities[22]\n",
    "G[11][15]['capacity'] = capacities[23]\n",
    "G[13][17]['capacity'] = capacities[24]\n",
    "G[14][17]['capacity'] = capacities[25]\n",
    "G[15][16]['capacity'] = capacities[26]\n",
    "G[16][17]['capacity'] = capacities[27]\n",
    "\n",
    "nx.algorithms.flow.maximum_flow(G, 1, 17)"
   ]
  },
  {
   "cell_type": "markdown",
   "metadata": {},
   "source": [
    "Notice that, other than givin us the maximum throughput of our network, which is $2244$, this function also specifies how each node allocates the in-flow on its tail ends adjacent to it, i.e. overall how the flow is distributed among edges."
   ]
  },
  {
   "cell_type": "markdown",
   "metadata": {},
   "source": [
    "**Point c)** In this point, we need to consider the *flow.mat* file and its content, in order to compute the external inflow $\\nu$ statisfying $Bf = \\nu$"
   ]
  },
  {
   "cell_type": "code",
   "execution_count": 21,
   "metadata": {},
   "outputs": [
    {
     "name": "stdout",
     "output_type": "stream",
     "text": [
      "Network flow: \n",
      " [ 16806   8570  19448   4957   -746   4768    413     -2  -5671   1169\n",
      "     -5  -7131   -380  -7412  -7810  -3430 -23544]\n",
      "Mass conservation principle is respected. Sum = 0\n"
     ]
    }
   ],
   "source": [
    "net_flow = B @ flow\n",
    "print(\"Network flow: \\n\", net_flow)\n",
    "print(\"Mass conservation principle is respected. Sum =\", net_flow.sum())"
   ]
  },
  {
   "cell_type": "markdown",
   "metadata": {},
   "source": [
    "This network flow vector represents the flow passing through every single node. "
   ]
  },
  {
   "cell_type": "markdown",
   "metadata": {},
   "source": [
    "...\n",
    "\n",
    "For the followings points we assume that the exogenous inflow is zero in all the nodes except for node $1$, for which $\\nu_1$ has the same value computed in the point *c)*, and node $17$, for which $\\nu_{17} = -\\nu_1$."
   ]
  },
  {
   "cell_type": "code",
   "execution_count": 22,
   "metadata": {},
   "outputs": [
    {
     "name": "stdout",
     "output_type": "stream",
     "text": [
      "New network flow: \n",
      " [ 16806      0      0      0      0      0      0      0      0      0\n",
      "      0      0      0      0      0      0 -16806]\n"
     ]
    }
   ],
   "source": [
    "net_flow0 = np.zeros((17,), dtype=int)\n",
    "net_flow0[0] = net_flow[0]\n",
    "net_flow0[-1] = -net_flow[0]\n",
    "print(\"New network flow: \\n\", net_flow0)"
   ]
  },
  {
   "cell_type": "markdown",
   "metadata": {},
   "source": [
    "**Point d)** First, we are asked to find the social optimum $f^*$ with respect to the delays, on the different links $d_e (f_e)$, where the delay function is defined as:\n",
    "\\begin{equation}\n",
    "d_e (f_e) = \\frac{l_e}{1 - \\frac{f_e}{C_e}}, \\hspace{1 cm} 0 \\le f_e \\le C_e\n",
    "\\end{equation}\n",
    "This social optimum $f^*$ is found minimizing the cost function defined as:\n",
    "\\begin{equation}\n",
    "\\sum_{e \\in \\mathcal{E}} f_e d_e (f_e)\n",
    "\\end{equation}\n",
    "\n",
    "To solve this problem, we need to address once again a convex optimization problem: however, this time, we are not dealing with a shortest path, but rather a social optimum traffic flow problem. This means that we the function to be minimized will be our cost function, which has been developed up to:\n",
    "\\begin{equation}\n",
    "\\sum_{e \\in \\mathcal{E}}\\left[ l_e C_e\\left(\\frac{1}{1 - \\frac{f_e}{C_e}}\\right) - l_e C_e \\right]\n",
    "\\end{equation}\n",
    "\n",
    "It is crucial to remember that this minimization problem has to be subject to the flow constraint. In this case, we need to consider that the flow on an edge cannot overcome the capacity of that edge. From this we add the constraint $f_e \\le C_e$.\n"
   ]
  },
  {
   "cell_type": "code",
   "execution_count": 32,
   "metadata": {},
   "outputs": [
    {
     "name": "stdout",
     "output_type": "stream",
     "text": [
      "Social optimal flow: [6.64219910e+03 6.05893789e+03 3.13232779e+03 3.13232589e+03\n",
      " 1.01638009e+04 4.63831664e+03 3.00634073e+03 2.54263460e+03\n",
      " 3.13154448e+03 5.83261212e+02 1.45164550e-02 2.92659559e+03\n",
      " 1.89781986e-03 3.13232589e+03 5.52548426e+03 2.85427264e+03\n",
      " 4.88644874e+03 2.21523712e+03 4.63720641e+02 2.33768761e+03\n",
      " 3.31799129e+03 5.65567890e+03 2.37310712e+03 1.99567283e-03\n",
      " 6.41411626e+03 5.50543301e+03 4.88645073e+03 4.88645073e+03]\n",
      "Social ptimal cost: 25943.62261121287\n"
     ]
    }
   ],
   "source": [
    "import numpy as np\n",
    "import cvxpy as cp\n",
    "\n",
    "# Problem data\n",
    "B = traffic\n",
    "n_edges = len(G.edges)\n",
    "\n",
    "nu = net_flow0 # 16806\n",
    "\n",
    "l = traveltime\n",
    "c = capacities\n",
    "\n",
    "# Construct the problem.\n",
    "f_so = cp.Variable(n_edges)\n",
    "objective = cp.Minimize((l*c)@cp.power(1-f_so/c, -1) - l.T@c)\n",
    "constraints = [B @ f_so == nu, f_so >=0, f_so <= c]\n",
    "prob = cp.Problem(objective, constraints)\n",
    "\n",
    "# Social optimal cost\n",
    "so_cost = prob.solve()\n",
    "# Social optimal value for f_so\n",
    "so_flow = f_so.value\n",
    "print(\"Social optimal flow:\", so_flow )\n",
    "print(\"Social ptimal cost:\", so_cost)"
   ]
  },
  {
   "cell_type": "markdown",
   "metadata": {},
   "source": [
    "Thus, we have found a solution for the **System-Optimum Traffic Assignment Problem (SO-TAP)**, and the cost represents the product of the delay times the flow, i.e., the total delay."
   ]
  },
  {
   "cell_type": "markdown",
   "metadata": {},
   "source": [
    "**Point e)** Now we are asked to find the Wardrop equilibrium for $f^{(0)}$, which is equivalent to ask for the solution of the **User-Optimum Traffic Assignment Problem (UO-TAP)**. This time, we need to minimize the cost function given by:\n",
    "\\begin{equation}\n",
    "\\sum_{e \\in \\mathcal{E}} \\int_{0}^{f_e}d_e(s) \\,ds\n",
    "\\end{equation}\n",
    "Solving the integral, we find the function to be minimized, which, in particular is:\n",
    "\\begin{equation}\n",
    "-\\sum_{e \\in \\mathcal{E}} l_e c_e \\left( \\ln(c_e - f_e) - \\ln(c_e) \\right)\n",
    "\\end{equation}"
   ]
  },
  {
   "cell_type": "code",
   "execution_count": 37,
   "metadata": {},
   "outputs": [
    {
     "name": "stdout",
     "output_type": "stream",
     "text": [
      "Wadrop equilibrium: [6.71564933e+03 6.71564464e+03 2.36740913e+03 2.36740874e+03\n",
      " 1.00903506e+04 4.64539440e+03 2.80384556e+03 2.28355729e+03\n",
      " 3.41848027e+03 4.68630001e-03 1.76815987e+02 4.17141953e+03\n",
      " 3.88215600e-04 2.36740874e+03 5.44495615e+03 2.35317274e+03\n",
      " 4.93333694e+03 1.84155353e+03 6.97104258e+02 3.03649694e+03\n",
      " 3.05027647e+03 6.08677341e+03 2.58651317e+03 5.27016717e-04\n",
      " 6.91874051e+03 4.95392191e+03 4.93333747e+03 4.93333747e+03]\n"
     ]
    }
   ],
   "source": [
    "import cvxpy as cp\n",
    "\n",
    "B = traffic\n",
    "n_edges = len(G.edges)\n",
    "\n",
    "nu = net_flow0\n",
    "# d = np.array(delay)\n",
    "l = traveltime\n",
    "c = capacities\n",
    "\n",
    "# Construct the problem.\n",
    "f_uo = cp.Variable(n_edges)\n",
    "objective = cp.Minimize((-l*c)@(cp.log(c-f_uo) - cp.log(c)))\n",
    "constraints = [B @ f_uo == nu, f_uo >=0, f_uo <= c]\n",
    "prob = cp.Problem(objective, constraints)\n",
    "\n",
    "# User optimal cost\n",
    "uo_result = prob.solve()\n",
    "# User optimal value for f_so\n",
    "uo_flow = f_uo.value\n",
    "print(\"Wadrop equilibrium:\", uo_flow)"
   ]
  },
  {
   "cell_type": "markdown",
   "metadata": {},
   "source": [
    "Since we found our wardrop equilibrium, we need to find the cost of the wardrop equilibrium. The function of the delay was already given as $d_e (f_e) = \\frac{l_e}{1 - f_e/C_e}, \\hspace{1 cm} 0 \\le f_e \\le C_e$, so it is just necessary to find the total cost adding the delay for each edge at wardrop. Once we found the total delay at user optimum, we can compute the *Price of Anarchy (PoA)* as the ratio between the total delay at the Wardrop equilibrium and the minimum possible total delay (i.e. the total delay at social optimum). Keep in mind that *PoA* should be included in $[1, 4/3]$."
   ]
  },
  {
   "cell_type": "code",
   "execution_count": 39,
   "metadata": {},
   "outputs": [
    {
     "name": "stdout",
     "output_type": "stream",
     "text": [
      "Wardrop cost:  26292.963306012705\n",
      "Price of anarchy 1.0134653783719798\n"
     ]
    }
   ],
   "source": [
    "def wardrop_cost_f(wardrop_eq, traveltime, capacities):\n",
    "    cost = 0\n",
    "    for w, l, c in zip(wardrop_eq, traveltime, capacities):\n",
    "        cost = cost + w*((l/(1 - (w/c))))\n",
    "\n",
    "    return cost\n",
    "    \n",
    "wardrop_eq = f_uo.value\n",
    "wardrop_cost= wardrop_cost_f(wardrop_eq, traveltime, capacities) \n",
    "print(\"Wardrop cost: \", wardrop_cost)\n",
    "print(\"Price of anarchy\", wardrop_cost/so_cost)"
   ]
  },
  {
   "cell_type": "markdown",
   "metadata": {},
   "source": [
    "**Point f)** Then, we are asked to introduce tolls such that the toll on link $e$ is $w_e = f_{e}^* d_{e}'(f_{e}^* )$, where $f_e^*$ is the flow at the system optimum (point *(d)*). Now the delay on link $e$ is given by $d_e (f_e) + \\omega_e$, so we need to compute the new Wardrop equilibrium at $\\omega$, $f^{(\\omega)}$. Solving the derivative in order to find the toll equation, we are able to obtain: \n",
    "\\begin{equation}\n",
    "\\omega_e = f_e \\left( \\frac{c_e l_e}{(c_e - f_e)^2} \\right)\n",
    "\\end{equation}"
   ]
  },
  {
   "cell_type": "code",
   "execution_count": 41,
   "metadata": {},
   "outputs": [
    {
     "name": "stdout",
     "output_type": "stream",
     "text": [
      "Tolls vector:  [1.92210631e+00 1.85064818e-01 5.16694986e-02 1.05176371e-01\n",
      " 1.44072968e+00 4.69146428e-01 1.07571171e-01 5.69255527e-02\n",
      " 2.78803191e-01 6.15501126e-03 1.74005540e-07 7.53489887e-02\n",
      " 2.18581142e-08 1.26658219e-01 4.81817175e-01 8.20545054e-02\n",
      " 6.85716144e-02 1.73792008e-02 1.50892092e-03 1.38933840e-02\n",
      " 6.58964442e-02 2.63303327e-01 6.70070611e-02 1.14962944e-08\n",
      " 4.09840401e-01 2.87273604e-01 1.91578098e-01 5.27755447e-01]\n"
     ]
    }
   ],
   "source": [
    "def toll_function(traveltime, so_flow, capacities):\n",
    "    tolls = []\n",
    "    for tl, f, c in zip(traveltime, so_flow, capacities):\n",
    "        tolls.append(f*((c*tl)/(c-f)**2))\n",
    "    return tolls\n",
    "\n",
    "\n",
    "toll = np.array(toll_function(traveltime, so_flow, capacities))\n",
    "\n",
    "print(\"Tolls vector: \", toll)"
   ]
  },
  {
   "cell_type": "code",
   "execution_count": 15,
   "metadata": {},
   "outputs": [
    {
     "name": "stdout",
     "output_type": "stream",
     "text": [
      "Wardrop equilibrium: [6.64297447e+03 6.05907644e+03 3.13247229e+03 3.13247200e+03\n",
      " 1.01630254e+04 4.63825875e+03 3.00632655e+03 2.54233808e+03\n",
      " 3.13148797e+03 5.83898031e+02 1.14255443e-03 2.92660301e+03\n",
      " 2.86108919e-04 3.13247200e+03 5.52476667e+03 2.85422630e+03\n",
      " 4.88637059e+03 2.21583023e+03 4.63989614e+02 2.33745341e+03\n",
      " 3.31821555e+03 5.65566896e+03 2.37303537e+03 3.63323218e-04\n",
      " 6.41412156e+03 5.50550737e+03 4.88637096e+03 4.88637096e+03]\n",
      "\n",
      "Result: 61885.75820815636\n"
     ]
    }
   ],
   "source": [
    "# new wardrop\n",
    "B = traffic\n",
    "n_edges = len(G.edges)\n",
    "\n",
    "nu = net_flow0 # 16806\n",
    "\n",
    "l = traveltime\n",
    "c = capacities\n",
    "t = toll\n",
    "\n",
    "# Construct the problem.\n",
    "f_nw = cp.Variable(n_edges)\n",
    "objective = cp.Minimize(t@f_nw + (-l*c)@(cp.log(c-f_nw)-cp.log(c)))\n",
    "constraints = [B @ f_nw == nu, f_nw >=0, f_nw<=c]\n",
    "prob = cp.Problem(objective, constraints)\n",
    "\n",
    "# The optimal objective value is returned by `prob.solve()`.\n",
    "result_nw = prob.solve()\n",
    "new_wardrop_equilibrium = f_nw.value\n",
    "# The optimal value for f is stored in `f.value`.\n",
    "print(\"Wardrop equilibrium:\", new_wardrop_eq)"
   ]
  },
  {
   "cell_type": "code",
   "execution_count": 16,
   "metadata": {},
   "outputs": [
    {
     "name": "stdout",
     "output_type": "stream",
     "text": [
      "The new wardrop cost with tolls is: 25943.622350312628\n",
      "The new price of anarchy is: 0.9999999899435693\n"
     ]
    }
   ],
   "source": [
    "#price of anarchy\n",
    "def new_wardrop_cost_f(new_wardrop_eq, traveltime, capacities):\n",
    "    cost = 0\n",
    "    for w, tl, c in zip(new_wardrop_eq, traveltime, capacities):\n",
    "        cost = cost + (w*((tl/(1 - (w/c)))))\n",
    "\n",
    "    return cost\n",
    "\n",
    "cost_nw = new_wardrop_cost_f(new_wardrop_eq, traveltime, capacities)\n",
    "\n",
    "print(\"The new wardrop cost with tolls is:\", cost_nw)\n",
    "print(\"The new price of anarchy is:\", cost_nw/cost_opt)"
   ]
  },
  {
   "cell_type": "markdown",
   "metadata": {},
   "source": [
    "**Point g)** Consider the cost to be the total additional delay compared to thte total delay in free flow be given by: \n",
    "- $c_e(f_e) = f_e (d_e(f_e) - l_e$\n",
    "\n",
    "Compute system optimum $f^*$ for the cost above. Construct tolls $\\omega_{e}^{*}, e \\in \\mathcal{E}$ such that the new Wardrop equilibrium with the constructed tolls $f^{(\\omega^*)}$ coincides with $f^*$ and compute the new Wardrop equilibrium."
   ]
  },
  {
   "cell_type": "code",
   "execution_count": 18,
   "metadata": {},
   "outputs": [
    {
     "name": "stdout",
     "output_type": "stream",
     "text": [
      "System optimum: [6.65328030e+03 5.77489762e+03 3.41962310e+03 3.41962307e+03\n",
      " 1.01527197e+04 4.64270591e+03 3.10574017e+03 2.66204915e+03\n",
      " 3.00911201e+03 8.78382679e+02 5.10341838e-05 2.35527447e+03\n",
      " 3.64534212e-05 3.41962307e+03 5.51001379e+03 3.04357885e+03\n",
      " 4.88178335e+03 2.41534842e+03 4.43691074e+02 2.00821165e+03\n",
      " 3.48726991e+03 5.49548156e+03 2.20387877e+03 1.14879599e-05\n",
      " 6.30071480e+03 5.62350184e+03 4.88178336e+03 4.88178336e+03]\n",
      "Result: 15095.513228359\n"
     ]
    }
   ],
   "source": [
    "# SYstem optimum\n",
    "B = traffic\n",
    "n_edges = len(G.edges)\n",
    "\n",
    "nu = net_flow0\n",
    "\n",
    "l = traveltime\n",
    "c = capacities\n",
    "\n",
    "# Construct the problem.\n",
    "f = cp.Variable(n_edges)\n",
    "objective = cp.Minimize(sum(l[e] * cp.quad_over_lin(f[e], c[e]-f[e]) for e in range(n_edges)))\n",
    "constraints = [B @ f == nu, f >=0, f<=c]\n",
    "prob = cp.Problem(objective, constraints)\n",
    "\n",
    "# The optimal objective value is returned by `prob.solve()`.\n",
    "result_so = prob.solve()\n",
    "system_optimum = f.value\n",
    "# The optimal value for f is stored in `f.value`.\n",
    "print(\"System optimum:\", system_optimum)\n",
    "print(\"Result:\", result_so)"
   ]
  },
  {
   "cell_type": "markdown",
   "metadata": {},
   "source": [
    "Now we need to find the Wardrop equilibrium considering this new delay function, in particular $d_e(f_e) - l_e$ "
   ]
  },
  {
   "cell_type": "code",
   "execution_count": null,
   "metadata": {},
   "outputs": [],
   "source": []
  }
 ],
 "metadata": {
  "kernelspec": {
   "display_name": "Python 3",
   "language": "python",
   "name": "python3"
  },
  "language_info": {
   "codemirror_mode": {
    "name": "ipython",
    "version": 3
   },
   "file_extension": ".py",
   "mimetype": "text/x-python",
   "name": "python",
   "nbconvert_exporter": "python",
   "pygments_lexer": "ipython3",
   "version": "3.6.9"
  }
 },
 "nbformat": 4,
 "nbformat_minor": 4
}
