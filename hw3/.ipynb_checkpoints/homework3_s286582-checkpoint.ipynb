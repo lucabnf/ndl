{
 "cells": [
  {
   "cell_type": "markdown",
   "metadata": {},
   "source": [
    "# **Homework III** - Network Dynamics and Learning\n",
    "In this homework, you will simulate the pandemic with the goal of learning the network structure characteristics and disease dynamics parameters of the influenza H1N1 pandemic in Sweden in 2009."
   ]
  },
  {
   "cell_type": "code",
   "execution_count": 32,
   "metadata": {},
   "outputs": [],
   "source": [
    "import networkx as nx \n",
    "import numpy as np \n",
    "import scipy as sp\n",
    "import matplotlib.pyplot as plt \n",
    "from itertools import product"
   ]
  },
  {
   "cell_type": "markdown",
   "metadata": {},
   "source": [
    "## **1) Preliminary parts**\n",
    "Two preliminary parts: \n",
    "- first one will involve simulating an epidemic on a given graph\n",
    "- second one will be to generate a random graph with preferential attachment\n",
    "\n",
    "### 1.1 Epidemic on a known graph\n",
    "We are asked simulate an epidemic on a symmetric $k$-regular graph $G = (V, E)$, with $|V| = 500$ nodes and $k = 4$. We consider $\\beta = 0.3$ and $\\rho = 0.7$. With one week being one unit of time, simulate the epidemic for 15 weeks.As initial configuration, we start with 10 infected nodes selected at random from the node set $V$. \n",
    "\n",
    "We need to repeat this experiments $N=100$ times, considering:\n",
    "- average number of newly infected individuals each week\n",
    "- average total number of susceptible, infected, and recovered individuals at each week\n",
    "\n",
    "First of all, we need to create the $4$-regular graph $G$."
   ]
  },
  {
   "cell_type": "code",
   "execution_count": 33,
   "metadata": {},
   "outputs": [],
   "source": [
    "N = 500 # number of nodes\n",
    "k = 4 # number of nodes connected for each node\n",
    "\n",
    "G = nx.Graph()\n",
    "sources = np.arange(N)\n",
    "\n",
    "for i in range(1, int(k/2) + 1):\n",
    "    targets = np.roll(sources, i)\n",
    "    G.add_edges_from(zip(sources, targets))"
   ]
  },
  {
   "cell_type": "markdown",
   "metadata": {},
   "source": [
    "Now we need to define the Markov chain by constructing its transition matrix Lambda, which is used to simulate the spread of the epidemic. Since we are dealing with large network ($N=500$), instead of precomputing the transition matrix $\\Lambda$, we compute its rows when needed. In particular, when the process is at some configuration $x$, row $x$ of $\\Lambda$ is computed and used to compute the probabilities of transitions from $x$ and to pick the next visited configuration. "
   ]
  },
  {
   "cell_type": "code",
   "execution_count": 34,
   "metadata": {},
   "outputs": [],
   "source": [
    "# Paramters initialization \n",
    "beta = 0.3\n",
    "rho= 0.7\n",
    "n_steps = 100 # number of the step of the simulation\n",
    "n_weeks = 15 # weeks of simulation\n",
    "initial_I = 10 # initial infected people\n",
    "n_states = 3 # SIR model\n",
    "\n",
    "simulations = np.zeros([n_steps,n_weeks, N])\n",
    "\n",
    "# Simulation loop\n",
    "for i in range(n_steps):\n",
    "        \n",
    "    states = np.zeros([n_weeks, N])\n",
    "    \n",
    "    # Initial condition \n",
    "    x0 = np.zeros(N)\n",
    "    \n",
    "    # randomly choose 10 initial infected\n",
    "    idx = np.random.choice(list(G.nodes), size=initial_I)\n",
    "    for j in idx:\n",
    "        x0[j] = 1\n",
    "        \n",
    "    # Save initial states for each node\n",
    "    states[0] = x0\n",
    "    \n",
    "    for j in range(1,n_weeks):\n",
    "        # Take last configuration\n",
    "        x = np.copy( states[j-1] )        \n",
    "        \n",
    "        rates = np.zeros([N,n_states])\n",
    "    \n",
    "        for agent in range(N) :\n",
    "            if x[agent] == 0:\n",
    "                m=0\n",
    "                for neig in dict(G.adj[agent]).keys() :\n",
    "                    if x[neig] == 1:\n",
    "                        m+=1\n",
    "            else: \n",
    "                m=0\n",
    "                \n",
    "            if x[agent] == 0 :\n",
    "                rates[agent] = np.array([(1-beta)**m,  1 - (1-beta)**m, 0])\n",
    "    \n",
    "            if x[agent] == 1 :\n",
    "                rates[agent] = np.array([0,  1-rho, rho])\n",
    "    \n",
    "            elif x[agent] == 2:\n",
    "                rates[agent] = np.array([0, 0, 1])\n",
    "    \n",
    "        \n",
    "        # Chose the next configuration \n",
    "        next_pos = np.argmax(np.cumsum(rates,axis=1) > np.random.rand(N,1), axis=1)\n",
    "        states[j] = next_pos\n",
    "        \n",
    "    simulations[i] = states"
   ]
  },
  {
   "cell_type": "markdown",
   "metadata": {},
   "source": [
    "Now we need to find the average of the newly infected individuals each week"
   ]
  },
  {
   "cell_type": "code",
   "execution_count": 35,
   "metadata": {},
   "outputs": [
    {
     "data": {
      "image/png": "[encoded data removed]",
      "text/plain": [
       "<Figure size 936x504 with 1 Axes>"
      ]
     },
     "metadata": {
      "needs_background": "light"
     },
     "output_type": "display_data"
    }
   ],
   "source": [
    "simulation_week_i = np.zeros([n_steps, n_weeks])\n",
    "\n",
    "for i in range(simulations.shape[0]):\n",
    "    \n",
    "    cases_i = np.zeros(simulations[i].shape[0])\n",
    "    \n",
    "    for case in range(simulations[i].shape[0]):\n",
    "        \n",
    "        states = case\n",
    "        \n",
    "        if case == 0:\n",
    "            cases_i[case] = int(np.argwhere(simulations[i, case] == 1).shape[0])\n",
    "        else:\n",
    "            cases_i[case] = int(np.argwhere(((simulations[i, case]==1) & (simulations[i,case-1]<simulations[i,case]) ) ).shape[0]) \n",
    "    \n",
    "    simulation_week_i[i] =  cases_i\n",
    "    \n",
    "avg_x_week = np.mean(simulation_week_i ,axis=0)\n",
    "\n",
    "plt.figure(figsize = (13 ,7))\n",
    "plt.plot(range(n_weeks), avg_x_week) \n",
    "plt.xlabel(\"weeks\")\n",
    "plt.ylabel(\"cases\")\n",
    "plt.grid()\n",
    "plt.show()"
   ]
  },
  {
   "cell_type": "markdown",
   "metadata": {},
   "source": [
    "Now we need to find how many individuals in total that are susceptible/infected/recovered at each week (on the average)."
   ]
  },
  {
   "cell_type": "code",
   "execution_count": 36,
   "metadata": {},
   "outputs": [
    {
     "data": {
      "image/png": "[encoded data removed]",
      "text/plain": [
       "<Figure size 936x504 with 1 Axes>"
      ]
     },
     "metadata": {
      "needs_background": "light"
     },
     "output_type": "display_data"
    }
   ],
   "source": [
    "total_SIR = np.zeros([n_weeks, n_states])\n",
    "\n",
    "for simulation in simulations :\n",
    "    total_x_simulation = np.zeros([simulation.shape[0],n_states])\n",
    "    \n",
    "    for i in range(simulation.shape[0]):\n",
    "        for j in range(n_states):\n",
    "            total_x_simulation[i,j] = int(np.argwhere(simulation[i] == j).shape[0])\n",
    "    \n",
    "    total_SIR = total_SIR + total_x_simulation\n",
    "    \n",
    "avg_SIR = total_SIR / n_steps\n",
    "\n",
    "plt.figure(figsize = (13 ,7))\n",
    "plt.plot(range(n_weeks), avg_SIR[:,0], label = \"S\") \n",
    "plt.plot(range(n_weeks), avg_SIR[:,1], label = \"I\") \n",
    "plt.plot(range(n_weeks), avg_SIR[:,2], label = \"R\")\n",
    "plt.xlabel(\"week\")\n",
    "plt.ylabel(\"cases\")\n",
    "plt.legend()\n",
    "plt.grid()\n",
    "plt.show()"
   ]
  },
  {
   "cell_type": "markdown",
   "metadata": {},
   "source": [
    "### 1.2 Generate random graph\n",
    "We are asked to generate a random graph of a large size (at least 900 nodes) with average degree $k \\in Z^+$, given an initial graph $G_1 = (V_1, E_1)$ that's a complete graph with $|V_1| = k_0 = k+1$ nodes"
   ]
  },
  {
   "cell_type": "code",
   "execution_count": 37,
   "metadata": {},
   "outputs": [
    {
     "name": "stdout",
     "output_type": "stream",
     "text": [
      "Average degree = 4.0\n"
     ]
    }
   ],
   "source": [
    "k = 4\n",
    "random_G = nx.generators.classic.complete_graph(k + 1)\n",
    "\n",
    "for i in range(k+1, 900):\n",
    "    \n",
    "    w = np.array(random_G.degree)[:,1]\n",
    "    prob = w / np.sum(w) \n",
    "    c = (k + (i % 2)) // 2\n",
    "\n",
    "    idx = np.random.choice(random_G.nodes(), size=c, replace=False, p=prob)\n",
    "    random_G.add_node(i)\n",
    "    \n",
    "    for link in range(c):\n",
    "        random_G.add_edge(i, idx[link]) \n",
    "\n",
    "print(\"Average degree =\",np.mean(np.array(random_G.degree)[:,1]))"
   ]
  },
  {
   "cell_type": "markdown",
   "metadata": {},
   "source": [
    "As we can see we can change the average degreee by only changing the value of $k$.\n",
    "\n",
    "## **2) Simulate a pandemic without vaccination**\n",
    "\n",
    "In this second exercise, we are asked to simulate once again the spread of the pandemic, as  in exercise 1.1, but this time considering the random graph generate in point 1.2. \n",
    "\n",
    "First of all, we  need to generate a random graph $G = (V, E)$ with $|V|=500$ nodes, with average degree $k = 6$."
   ]
  },
  {
   "cell_type": "code",
   "execution_count": 38,
   "metadata": {},
   "outputs": [],
   "source": [
    "N = 900\n",
    "k = 6\n",
    "\n",
    "random_G = nx.generators.classic.complete_graph(k + 1)\n",
    "\n",
    "for i in range(k+1, N):\n",
    "    \n",
    "    w = np.array(random_G.degree)[:,1]\n",
    "    prob = w / np.sum(w) \n",
    "    c = (k + (i % 2)) // 2\n",
    "\n",
    "    idx = np.random.choice(random_G.nodes(), size=c, replace=False, p=prob)\n",
    "    random_G.add_node(i)\n",
    "    \n",
    "    for link in range(c):\n",
    "        random_G.add_edge(i, idx[link]) "
   ]
  },
  {
   "cell_type": "markdown",
   "metadata": {},
   "source": [
    "Then, we need to simulate the pandemic for 15 weeks (one week being one unit of time) on $G$, with $\\beta = 0.3$ and $\\rho = 0.7$, and 10 initial infected people (same identical simulation loop)."
   ]
  },
  {
   "cell_type": "code",
   "execution_count": 39,
   "metadata": {},
   "outputs": [],
   "source": [
    "# Parameters initialization \n",
    "beta = 0.3\n",
    "rho= 0.7\n",
    "n_steps = 100 # number of the step of the simulation\n",
    "n_weeks = 15 # weeks of simulation\n",
    "initial_I = 10 # initial infected people\n",
    "n_states = 3 # SIR model\n",
    "\n",
    "simulations = np.zeros([n_steps,n_weeks, N])\n",
    "\n",
    "# Simulation loop\n",
    "for i in range(n_steps):\n",
    "        \n",
    "    states = np.zeros([n_weeks, N])\n",
    "    \n",
    "    # Initial condition \n",
    "    x0 = np.zeros(N)\n",
    "    \n",
    "    # randomly choose 10 initial infected\n",
    "    idx = np.random.choice(list(random_G.nodes), size=initial_I)  \n",
    "    for j in idx:\n",
    "        x0[j] = 1\n",
    "        \n",
    "    # Save initial states for each node\n",
    "    states[0] = x0\n",
    "    \n",
    "    for j in range(1,n_weeks):\n",
    "        # Take last configuration\n",
    "        x = np.copy( states[j-1] )        \n",
    "        \n",
    "        rates = np.zeros([N,n_states])\n",
    "    \n",
    "        for agent in range(N) :\n",
    "            if x[agent] == 0:\n",
    "                m=0\n",
    "                for neig in dict(random_G.adj[agent]).keys() :\n",
    "                    if x[neig] == 1:\n",
    "                        m+=1\n",
    "            else:\n",
    "                m=0\n",
    "                \n",
    "            if x[agent] == 0 :\n",
    "                rates[agent] = np.array([(1-beta)**m,  1 - (1-beta)**m, 0])\n",
    "    \n",
    "            if x[agent] == 1 :\n",
    "                rates[agent] = np.array([0,  1-rho, rho])\n",
    "    \n",
    "            elif x[agent] == 2:\n",
    "                rates[agent] = np.array([0, 0, 1])\n",
    "    \n",
    "        \n",
    "        # Chose the next configuration \n",
    "        next_pos = np.argmax(np.cumsum(rates,axis=1) > np.random.rand(N,1), axis=1)\n",
    "        states[j] = next_pos\n",
    "        \n",
    "    simulations[i] = states"
   ]
  },
  {
   "cell_type": "markdown",
   "metadata": {},
   "source": [
    "Once again, as before, we are asked to find the average number of newly infected people each week."
   ]
  },
  {
   "cell_type": "code",
   "execution_count": 40,
   "metadata": {},
   "outputs": [
    {
     "data": {
      "image/png": "[encoded data removed]",
      "text/plain": [
       "<Figure size 936x504 with 1 Axes>"
      ]
     },
     "metadata": {
      "needs_background": "light"
     },
     "output_type": "display_data"
    }
   ],
   "source": [
    "simulation_week_i = np.zeros([n_steps, n_weeks])\n",
    "\n",
    "for i in range(simulations.shape[0]):\n",
    "    \n",
    "    cases_i = np.zeros(simulations[i].shape[0])\n",
    "    \n",
    "    for case in range(simulations[i].shape[0]):\n",
    "                \n",
    "        if case == 0:\n",
    "            cases_i[case] = int(np.argwhere(simulations[i, case] == 1).shape[0])\n",
    "        \n",
    "        else:\n",
    "            cases_i[case] = int(np.argwhere(((simulations[i, case]==1) & (simulations[i,case-1]<simulations[i,case]) ) ).shape[0]) \n",
    "    \n",
    "    simulation_week_i[i] =  cases_i\n",
    "    \n",
    "avg_x_week = np.mean(simulation_week_i ,axis=0)\n",
    "\n",
    "plt.figure(figsize = (13 ,7))\n",
    "plt.plot(range(n_weeks), avg_x_week) \n",
    "plt.xlabel(\"weeks\")\n",
    "plt.ylabel(\"cases\")\n",
    "plt.grid()\n",
    "plt.show()"
   ]
  },
  {
   "cell_type": "markdown",
   "metadata": {},
   "source": [
    "And again, how many individuals in total that are susceptible/infected/recovered at each week (on the average)."
   ]
  },
  {
   "cell_type": "code",
   "execution_count": 10,
   "metadata": {},
   "outputs": [
    {
     "data": {
      "image/png": "[encoded data removed]",
      "text/plain": [
       "<Figure size 936x504 with 1 Axes>"
      ]
     },
     "metadata": {
      "needs_background": "light"
     },
     "output_type": "display_data"
    }
   ],
   "source": [
    "total_SIR = np.zeros([n_weeks, n_states])\n",
    "\n",
    "for simulation in simulations :\n",
    "    total_x_simulation = np.zeros([simulation.shape[0],n_states])\n",
    "    \n",
    "    for i in range(simulation.shape[0]):\n",
    "        for j in range(n_states):\n",
    "            total_x_simulation[i,j] = int(np.argwhere(simulation[i] == j).shape[0])\n",
    "    \n",
    "    total_SIR = total_SIR + total_x_simulation\n",
    "    \n",
    "avg_SIR = total_SIR / n_steps\n",
    "\n",
    "plt.figure(figsize = (13 ,7))\n",
    "plt.plot(range(n_weeks), avg_SIR[:,0], label = \"S\") \n",
    "plt.plot(range(n_weeks), avg_SIR[:,1], label = \"I\") \n",
    "plt.plot(range(n_weeks), avg_SIR[:,2], label = \"R\")\n",
    "plt.xlabel(\"week\")\n",
    "plt.ylabel(\"cases\")\n",
    "plt.legend()\n",
    "plt.grid()\n",
    "plt.show()"
   ]
  },
  {
   "cell_type": "markdown",
   "metadata": {},
   "source": [
    "## **3) Simulate a pandemic with vaccination**\n",
    "\n",
    "In this third exercise, we are asked to simulate the pandemic as before, but now taking into account vaccination effect: in particular, during each week, some parts of the population will receive vaccination (once a person is vaccinated it cannot be infected). We assume that, regardless of the state of an individual prior to the vaccination, once vaccinated the individual will not be able to become infected nor infect any other individuals.\n",
    "\n",
    "Once again, we need to generate a random graph $G = (V, E)$ with $|V| = 500$ nodes, average degree $k=6$."
   ]
  },
  {
   "cell_type": "code",
   "execution_count": 41,
   "metadata": {},
   "outputs": [],
   "source": [
    "N = 500\n",
    "k = 6\n",
    "\n",
    "random_G = nx.generators.classic.complete_graph(k + 1)\n",
    "\n",
    "for i in range(k+1, N):\n",
    "    \n",
    "    w = np.array(random_G.degree)[:,1]\n",
    "    prob = w / np.sum(w) \n",
    "    c = (k + (i % 2)) // 2\n",
    "\n",
    "    idx = np.random.choice(random_G.nodes(), size=c, replace=False, p=prob)\n",
    "    random_G.add_node(i)\n",
    "    \n",
    "    for link in range(c):\n",
    "        random_G.add_edge(i, idx[link]) "
   ]
  },
  {
   "cell_type": "markdown",
   "metadata": {},
   "source": [
    "We need to simulation the pandemic for 15 weeks (one week being one unit of time) on $G$, with $\\beta = 0.3$ and $\\rho = 0.7$, and 10 initial infected people. However, this time we need to use the following vaccination scheme:\n",
    "\\begin{equation}\n",
    "    \\text{Vacc}(t) = [0,5,15,25,35,45,55,60,60,60,60,60,60,60,60]\n",
    "\\end{equation}"
   ]
  },
  {
   "cell_type": "code",
   "execution_count": 42,
   "metadata": {},
   "outputs": [],
   "source": [
    "# Paramters initialization \n",
    "beta = 0.3\n",
    "rho= 0.7\n",
    "n_steps = 100 # number of the step of the simulation\n",
    "n_weeks = 15 # weeks of simulation\n",
    "initial_I = 10 # initial infected people\n",
    "n_states = 4 # SIR + Vaccinated model\n",
    "vax_scheme = [0,5,15,25,35,45,55,60,60,60,60,60,60,60,60]\n",
    "\n",
    "simulations = np.zeros([n_steps, n_weeks, N])\n",
    "\n",
    "# Simulation loop considering vaccination\n",
    "for i in range(n_steps):\n",
    "    # ------------- INITIALIZATION PHASE -------------\n",
    "    states = np.zeros([n_weeks, N])\n",
    "\n",
    "    # Initial condition \n",
    "    x0 = np.zeros(N)\n",
    "    \n",
    "    # randomly choose 10 initial infected\n",
    "    idx = np.random.choice(list(random_G.nodes), size=initial_I)\n",
    "    for j in idx:\n",
    "        x0[j] = 1\n",
    "        \n",
    "    # Save initial states for each node\n",
    "    states[0] = x0\n",
    "    \n",
    "    for j in range(1,n_weeks):\n",
    "        # ------------- VACCINATION PHASE -------------\n",
    "        # vaccinated during this week\n",
    "        vax_in_this_week = vax_scheme[j] - vax_scheme[j-1]\n",
    "            \n",
    "        # find the first eligible to be vaccinated\n",
    "        states_of_week = np.copy(states[j-1])\n",
    "        first_sir = np.where(states_of_week < 3)[0]\n",
    "        \n",
    "        # people that are to be vaccinated in this week (rounded to the nearest integer)\n",
    "        total_to_be_vax = round((N*vax_in_this_week)/100)\n",
    "        idx_to_be_vax = np.random.choice(first_sir, size=total_to_be_vax, replace=False)\n",
    "        \n",
    "        # define the new state (that considers vaccinated people)\n",
    "        for idx in idx_to_be_vax:\n",
    "            states_of_week[idx] = 3\n",
    "        \n",
    "        # consider the new state with the vaccinated in this week \n",
    "        x = np.copy(states_of_week)        \n",
    "        \n",
    "        # ------------- PANDEMIC SIMULATION PHASE -------------\n",
    "        rates = np.zeros([N, n_states])\n",
    "    \n",
    "        for agent in range(N) :\n",
    "            if x[agent] == 0:\n",
    "                m=0\n",
    "                for neig in dict(random_G.adj[agent]).keys() :\n",
    "                    if x[neig] == 1:\n",
    "                        m+=1\n",
    "            else:\n",
    "                m = 0\n",
    "        \n",
    "            if x[agent] == 0:\n",
    "                rates[agent] = np.array([(1-beta)**m,  1 - (1-beta)**m, 0, 0])\n",
    "    \n",
    "            elif x[agent] == 1 :\n",
    "                rates[agent] = np.array([0,  1-rho, rho, 0])\n",
    "    \n",
    "            elif x[agent] == 2:\n",
    "                rates[agent] = np.array([0, 0, 1, 0])\n",
    "                \n",
    "            elif x[agent] == 3:\n",
    "                rates[agent] = np.array([0, 0, 0, 1])\n",
    "            \n",
    "        \n",
    "        # Chose the next configuration \n",
    "        next_pos = np.argmax(np.cumsum(rates,axis=1) > np.random.rand(N,1), axis=1)\n",
    "        states[j] = next_pos\n",
    "        \n",
    "    simulations[i] = states"
   ]
  },
  {
   "cell_type": "markdown",
   "metadata": {},
   "source": [
    "In this case, we are asked to find and plot the average number of newly infected and newly vaccinated individuals for each week."
   ]
  },
  {
   "cell_type": "code",
   "execution_count": 43,
   "metadata": {},
   "outputs": [
    {
     "data": {
      "image/png": "[encoded data removed]",
      "text/plain": [
       "<Figure size 936x504 with 1 Axes>"
      ]
     },
     "metadata": {
      "needs_background": "light"
     },
     "output_type": "display_data"
    }
   ],
   "source": [
    "simulation_week_i = np.zeros([n_steps, n_weeks])\n",
    "simulation_week_v = np.zeros([n_steps, n_weeks])\n",
    "\n",
    "for i in range(simulations.shape[0]):\n",
    "    \n",
    "    cases_i = np.zeros(simulations[i].shape[0])\n",
    "    cases_v = np.zeros(simulations[i].shape[0])\n",
    "    \n",
    "    for case in range(simulations[i].shape[0]):\n",
    "                \n",
    "        if case == 0:\n",
    "            cases_i[case] = int(np.argwhere(simulations[i, case] == 1).shape[0])\n",
    "            cases_v[case] = int(np.argwhere(simulations[i, case] == 3).shape[0])\n",
    "            \n",
    "        else:\n",
    "            cases_i[case] = int(np.argwhere(((simulations[i, case]==1) & (simulations[i,case-1]<simulations[i,case]))).shape[0])\n",
    "            cases_v[case] = int(np.argwhere(((simulations[i, case]==3) & (simulations[i,case-1]<simulations[i,case]))).shape[0])\n",
    "            \n",
    "    \n",
    "    simulation_week_i[i] =  cases_i\n",
    "    simulation_week_v[i] =  cases_v\n",
    "    \n",
    "avg_x_week_i = np.mean(simulation_week_i ,axis=0)\n",
    "avg_x_week_v = np.mean(simulation_week_v ,axis=0)\n",
    "\n",
    "plt.figure(figsize = (13 ,7))\n",
    "plt.plot(range(n_weeks), avg_x_week_i) \n",
    "plt.plot(range(n_weeks), avg_x_week_v) \n",
    "plt.xlabel(\"weeks\")\n",
    "plt.ylabel(\"cases\")\n",
    "plt.grid()\n",
    "plt.show()"
   ]
  },
  {
   "cell_type": "markdown",
   "metadata": {},
   "source": [
    "And finally, the average total number of susceptible, infected, recovered and vaccinated individuals at each week."
   ]
  },
  {
   "cell_type": "code",
   "execution_count": 44,
   "metadata": {},
   "outputs": [
    {
     "data": {
      "image/png": "[encoded data removed]",
      "text/plain": [
       "<Figure size 936x504 with 1 Axes>"
      ]
     },
     "metadata": {
      "needs_background": "light"
     },
     "output_type": "display_data"
    }
   ],
   "source": [
    "total_SIR = np.zeros([n_weeks, n_states])\n",
    "\n",
    "for simulation in simulations :\n",
    "    total_x_simulation = np.zeros([simulation.shape[0],n_states])\n",
    "    \n",
    "    for i in range(simulation.shape[0]):\n",
    "        for j in range(n_states):\n",
    "            total_x_simulation[i,j] = int(np.argwhere(simulation[i] == j).shape[0])\n",
    "    \n",
    "    total_SIR = total_SIR + total_x_simulation\n",
    "    \n",
    "avg_SIR = total_SIR / n_steps\n",
    "\n",
    "plt.figure(figsize = (13 ,7))\n",
    "plt.plot(range(n_weeks), avg_SIR[:,0], label = \"S\") \n",
    "plt.plot(range(n_weeks), avg_SIR[:,1], label = \"I\") \n",
    "plt.plot(range(n_weeks), avg_SIR[:,2], label = \"R\")\n",
    "plt.plot(range(n_weeks), avg_SIR[:,3], label = \"V\")\n",
    "plt.xlabel(\"week\")\n",
    "plt.ylabel(\"cases\")\n",
    "plt.legend()\n",
    "plt.grid()\n",
    "plt.show()"
   ]
  },
  {
   "cell_type": "markdown",
   "metadata": {},
   "source": [
    "## **4) The H1N1 pandemic in Sweden 2009**\n",
    "In this forth exercise, we exploit all the previous parts in order to estimate the social structure of the Swedish population and the disease-spread parameters during the H1N1 pandemic. We will simulate the pandemic between week 42, 2009 and week 5, 2010. During these weeks, the fraction of population that had received vaccination was:\n",
    "\\begin{equation}\n",
    "\\text{Vacc}(t) = [5, 9, 16, 24, 32, 40, 47, 54, 59, 60, 60, 60, 60, 60, 60, 60]\n",
    "\\end{equation}\n",
    "To reduce simulation time, we will scale down the population of Sweden to $n = |V| = 934$. For the scaled version, the number of newly infected individuals each week in the period between week 42, 2009 and week 5, 2010 was:\n",
    "\\begin{equation}\n",
    "I_0(t) = [1, 1, 3, 5, 9, 17, 32, 32, 17, 5, 2, 1, 0, 0, 0, 0]\n",
    "\\end{equation}\n",
    "The following algorithm will do a gradient-based search over the parameter space of $k$, $\\beta$, and $\\rho$ in order to find the set of parameters that best matches the real pandemic.\n",
    "\n",
    "Since this algorithm requires, for each set of paramters ($k, \\beta, \\rho$), multiple repetitive and redundant steps, we define some function in order to lighten the pipeline.\n",
    "\n",
    "### 1) Function to generate a random graph\n",
    "We firstly define a function to generate a random graph using the preferential attachment."
   ]
  },
  {
   "cell_type": "code",
   "execution_count": 45,
   "metadata": {},
   "outputs": [],
   "source": [
    "def generate_random_graph(k, n):\n",
    "    \n",
    "    random_G = nx.generators.classic.complete_graph(k + 1)\n",
    "\n",
    "    for i in range(k+1, n):\n",
    "    \n",
    "        w = np.array(random_G.degree)[:,1]\n",
    "        prob = w / np.sum(w) \n",
    "        c = (k + (i % 2)) // 2\n",
    "\n",
    "        idx = np.random.choice(random_G.nodes(), size=c, replace=False, p=prob)\n",
    "        random_G.add_node(i)\n",
    "    \n",
    "        for link in range(c):\n",
    "            random_G.add_edge(i, idx[link]) \n",
    "\n",
    "    return random_G"
   ]
  },
  {
   "cell_type": "markdown",
   "metadata": {},
   "source": [
    "### 2) Function to simulate the pandemic\n",
    "We then define a function to simulate the pandemic, using the method aleready developed in section 3 (\"Simulate pandemic with vaccination\")."
   ]
  },
  {
   "cell_type": "code",
   "execution_count": 46,
   "metadata": {},
   "outputs": [],
   "source": [
    "def simulate_pandemic(random_G, beta, rho, n_steps, n_weeks, initial_I, n_states, vax_scheme):\n",
    "    \n",
    "    simulations = np.zeros([n_steps, n_weeks, N])\n",
    "\n",
    "    # Simulation loop considering vaccination\n",
    "    for i in range(n_steps):\n",
    "        # ------------- INITIALIZATION PHASE -------------\n",
    "        states = np.zeros([n_weeks, N])\n",
    "\n",
    "        # Initial condition \n",
    "        x0 = np.zeros(N)\n",
    "\n",
    "        # randomly choose 10 initial infected\n",
    "        idx = np.random.choice(list(random_G.nodes), size=initial_I)\n",
    "        for j in idx:\n",
    "            x0[j] = 1\n",
    "\n",
    "        # Save initial states for each node\n",
    "        states[0] = x0\n",
    "\n",
    "        for j in range(1,n_weeks):\n",
    "            # ------------- VACCINATION PHASE -------------\n",
    "            # vaccinated during this week\n",
    "            vax_in_this_week = vax_scheme[j] - vax_scheme[j-1]\n",
    "\n",
    "            # find the first eligble to be vaccinated\n",
    "            states_of_week = np.copy(states[j-1])\n",
    "            first_sir = np.where(state_previous_week < 3)[0]\n",
    "\n",
    "            # people that are to be vaccinated in this week (rounded to the nearest integer)\n",
    "            total_to_be_vax = round((N*vax_in_this_week)/100)\n",
    "            idx_to_be_vax = np.random.choice(first_sir, size=total_to_be_vax, replace=False)\n",
    "\n",
    "            # define the new state (that considers vaccinated people)\n",
    "            for idx in idx_to_be_vax:\n",
    "                states_of_week[idx] = 3\n",
    "\n",
    "            # consider the new state with the vaccinated in this week \n",
    "            x = np.copy(states_of_week)        \n",
    "\n",
    "            # ------------- PANDEMIC SIMULATION PHASE -------------\n",
    "            rates = np.zeros([N, n_states])\n",
    "\n",
    "            for agent in range(N) :\n",
    "                if x[agent] == 0:\n",
    "                    m=0\n",
    "                    for neig in dict(random_G.adj[agent]).keys() :\n",
    "                        if x[neig] == 1:\n",
    "                            m+=1\n",
    "                else:\n",
    "                    m = 0\n",
    "\n",
    "                if x[agent] == 0:\n",
    "                    rates[agent] = np.array([(1-beta)**m,  1 - (1-beta)**m, 0, 0])\n",
    "\n",
    "                elif x[agent] == 1 :\n",
    "                    rates[agent] = np.array([0,  1-rho, rho, 0])\n",
    "\n",
    "                elif x[agent] == 2:\n",
    "                    rates[agent] = np.array([0, 0, 1, 0])\n",
    "\n",
    "                elif x[agent] == 3:\n",
    "                    rates[agent] = np.array([0, 0, 0, 1])\n",
    "\n",
    "\n",
    "            # Chose the next configuration \n",
    "            next_pos = np.argmax(np.cumsum(rates,axis=1) > np.random.rand(N,1), axis=1)\n",
    "            states[j] = next_pos\n",
    "\n",
    "        simulations[i] = states\n",
    "    \n",
    "    return simulations"
   ]
  },
  {
   "cell_type": "markdown",
   "metadata": {},
   "source": [
    "## 3) Function to search best configuration of $(k, \\beta, \\rho)$\n",
    "Finally, we can define the function that will exploit the previous ones to carry out the algorithm for the search of the best configuration of the parameter. Basically, the algorithm, starting from an initial guess for the parameters $(k_0, \\beta_0, \\rho_0)$, follows these steps:\n",
    "1. for each set of parameter $(k, \\beta, \\rho)$ in the parameter-space:\n",
    "    - gnerate a random graph, using the `generate_random_graph()` function;\n",
    "    - simulate the pandemic, with the `simulate_pandemic()` function;\n",
    "    - compute the root-mean-square error (RMSE) as:\n",
    "    \\begin{equation}\n",
    "    \\text{RMSE} = \\sqrt{\\frac{1}{15}\\sum_{t=1}^{15}(I(t)-I_0(t))^2}\n",
    "    \\end{equation}\n",
    "    where $I(t)$ is the average number of newly infected individuals each week in the simulation and $I_0(t)$ is the true value of newly infected individuals each week.\n",
    "2. Update $k_0 , \\beta_0, \\rho_0$ to the set of parameters yielding the lowest RMSE. We stop when these do not improve from the previous step."
   ]
  },
  {
   "cell_type": "code",
   "execution_count": 47,
   "metadata": {},
   "outputs": [],
   "source": [
    "def search_algorithm(pandemic, params):\n",
    "    \n",
    "    # Neighborhood generation\n",
    "    k = [params[\"k0\"]-params[\"delta_k\"], params[\"k0\"], params[\"k0\"]+params[\"delta_k\"]]\n",
    "    beta = [params[\"beta0\"]-params[\"delta_beta\"], params[\"beta0\"], params[\"beta0\"]+params[\"delta_beta\"]]\n",
    "    rho= [params[\"rho0\"]-params[\"delta_rho\"], params[\"rho0\"], params[\"rho0\"]+params[\"delta_rho\"]]\n",
    "        \n",
    "    cmb = list(product(k, beta, rho))    \n",
    "    results = []\n",
    "    \n",
    "    # Neighborhood loop \n",
    "    for combination in cmb:\n",
    "        \n",
    "        # Graph Generation\n",
    "        G = generate_random_graph(combination[0], pandemic[\"n_nodes\"])\n",
    "        \n",
    "        # Pandemic simulation\n",
    "        simulation = simulate_pandemic(G, combination[1], combination[2], pandemic[\"I0\"][0], \n",
    "                                       pandemic[\"n_steps\"], pandemic[\"n_weeks\"], \n",
    "                                       pandemic[\"n_states\"], pandemic[\"vax_scheme\"])\n",
    "        \n",
    "        # Compute the average number of newly infected individuals each week      \n",
    "        simulation_week_i = np.zeros([n_steps, n_weeks])\n",
    "\n",
    "        for i in range(simulations.shape[0]):\n",
    "\n",
    "            cases_i = np.zeros(simulations[i].shape[0])\n",
    "\n",
    "            for case in range(simulations[i].shape[0]):\n",
    "\n",
    "                if case == 0:\n",
    "                    cases_i[case] = int(np.argwhere(simulations[i, case] == 1).shape[0])\n",
    "\n",
    "                else:\n",
    "                    cases_i[case] = int(np.argwhere(((simulations[i, case]==1) & (simulations[i,case-1]<simulations[i,case]) ) ).shape[0]) \n",
    "\n",
    "            simulation_week_i[i] =  cases_i\n",
    "\n",
    "        avg_x_week = np.mean(simulation_week_i ,axis=0)\n",
    "        \n",
    "        # Compute RMSE \n",
    "        rmse = np.sqrt( (np.sum((avg_x_week[1:]-avg_x_week[1:])**2))/15)\n",
    "        results.append(rmse)\n",
    "        \n",
    "        # print(\"[k:{}, beta:{}, rho:{}] --> RMSE:{}\".format(combination[0], combination[1], combination[2],rmse))\n",
    "\n",
    "    # Chose the parameters that minimize the RMSE\n",
    "    results = np.array(results)\n",
    "    best_index = np.argmin(results)\n",
    "    best_combination = cmb[best_index]\n",
    "    \n",
    "    return best_combination[0], best_combination[1], best_combination[2], results[best_index]"
   ]
  },
  {
   "cell_type": "markdown",
   "metadata": {},
   "source": [
    "Now that we have defined the different functions, we can exploit the algorithm to estimate the average degree $k$ and the disease-spread parameters $\\beta$ and $\\rho$ for the pandemic.\n",
    "\n",
    "First of all, we define the parameters for our simulation."
   ]
  },
  {
   "cell_type": "code",
   "execution_count": 48,
   "metadata": {},
   "outputs": [],
   "source": [
    "# Parameters to search\n",
    "params = {\n",
    "    \"k0\": 10, \"beta0\": 0.3, \"rho0\": 0.6, \n",
    "    \"delta_k\": 1, \"delta_beta\": 0.1, \"delta_rho\": 0.1,\n",
    "}\n",
    "# Parameters for the pandemic spread\n",
    "pandemic = {\n",
    "    \"I0\": [1, 1, 3, 5, 9, 17, 32, 32, 17, 5, 2, 1, 0, 0, 0, 0],\n",
    "    \"n_nodes\": 934,\n",
    "    \"vax_scheme\": [5, 9, 16, 24, 32, 40, 47, 54, 59, 60, 60, 60, 60, 60, 60, 60], \n",
    "    \"n_steps\": 10,\n",
    "    \"n_weeks\": 16,\n",
    "    \"n_states\": 4\n",
    "}"
   ]
  },
  {
   "cell_type": "code",
   "execution_count": 49,
   "metadata": {},
   "outputs": [
    {
     "ename": "KeyError",
     "evalue": "'n_states'",
     "output_type": "error",
     "traceback": [
      "\u001b[0;31m---------------------------------------------------------------------------\u001b[0m",
      "\u001b[0;31mKeyError\u001b[0m                                  Traceback (most recent call last)",
      "\u001b[0;32m<ipython-input-49-cc982a388098>\u001b[0m in \u001b[0;36m<module>\u001b[0;34m\u001b[0m\n\u001b[1;32m     10\u001b[0m     \u001b[0;31m# Loop of around search\u001b[0m\u001b[0;34m\u001b[0m\u001b[0;34m\u001b[0m\u001b[0;34m\u001b[0m\u001b[0m\n\u001b[1;32m     11\u001b[0m     \u001b[0;32mwhile\u001b[0m \u001b[0;32mTrue\u001b[0m  \u001b[0;34m:\u001b[0m\u001b[0;34m\u001b[0m\u001b[0;34m\u001b[0m\u001b[0m\n\u001b[0;32m---> 12\u001b[0;31m         \u001b[0mk\u001b[0m\u001b[0;34m,\u001b[0m \u001b[0mbeta\u001b[0m\u001b[0;34m,\u001b[0m \u001b[0mrho\u001b[0m\u001b[0;34m,\u001b[0m \u001b[0mcurrent_rmse\u001b[0m \u001b[0;34m=\u001b[0m \u001b[0msearch_algorithm\u001b[0m\u001b[0;34m(\u001b[0m\u001b[0mpandemic\u001b[0m\u001b[0;34m,\u001b[0m \u001b[0mparams\u001b[0m\u001b[0;34m)\u001b[0m\u001b[0;34m\u001b[0m\u001b[0;34m\u001b[0m\u001b[0m\n\u001b[0m\u001b[1;32m     13\u001b[0m \u001b[0;34m\u001b[0m\u001b[0m\n\u001b[1;32m     14\u001b[0m         \u001b[0mprint\u001b[0m\u001b[0;34m(\u001b[0m\u001b[0;34m\"\\n[k:{}, beta:{}, rho:{}] --> RMSE:{}\\n\"\u001b[0m\u001b[0;34m.\u001b[0m\u001b[0mformat\u001b[0m\u001b[0;34m(\u001b[0m\u001b[0mk\u001b[0m\u001b[0;34m,\u001b[0m \u001b[0mbeta\u001b[0m\u001b[0;34m,\u001b[0m \u001b[0mrho\u001b[0m\u001b[0;34m,\u001b[0m \u001b[0mcurrent_rmse\u001b[0m\u001b[0;34m)\u001b[0m\u001b[0;34m)\u001b[0m\u001b[0;34m\u001b[0m\u001b[0;34m\u001b[0m\u001b[0m\n",
      "\u001b[0;32m<ipython-input-47-a4e89f935940>\u001b[0m in \u001b[0;36msearch_algorithm\u001b[0;34m(pandemic, params)\u001b[0m\n\u001b[1;32m     18\u001b[0m         simulation = simulate_pandemic(G, combination[1], combination[2], pandemic[\"I0\"][0], \n\u001b[1;32m     19\u001b[0m                                        \u001b[0mpandemic\u001b[0m\u001b[0;34m[\u001b[0m\u001b[0;34m\"n_steps\"\u001b[0m\u001b[0;34m]\u001b[0m\u001b[0;34m,\u001b[0m \u001b[0mpandemic\u001b[0m\u001b[0;34m[\u001b[0m\u001b[0;34m\"n_weeks\"\u001b[0m\u001b[0;34m]\u001b[0m\u001b[0;34m,\u001b[0m\u001b[0;34m\u001b[0m\u001b[0;34m\u001b[0m\u001b[0m\n\u001b[0;32m---> 20\u001b[0;31m                                        pandemic[\"n_states\"], pandemic[\"vax_scheme\"])\n\u001b[0m\u001b[1;32m     21\u001b[0m \u001b[0;34m\u001b[0m\u001b[0m\n\u001b[1;32m     22\u001b[0m         \u001b[0;31m# Compute the average number of newly infected individuals each week\u001b[0m\u001b[0;34m\u001b[0m\u001b[0;34m\u001b[0m\u001b[0;34m\u001b[0m\u001b[0m\n",
      "\u001b[0;31mKeyError\u001b[0m: 'n_states'"
     ]
    }
   ],
   "source": [
    "best_par = [params[\"k0\"], params[\"beta0\"], params[\"rho0\"]]\n",
    "division_rmse = np.inf\n",
    "\n",
    "# Loop of deltas reduction search\n",
    "while True : \n",
    "    last_rmse = np.inf\n",
    "    \n",
    "    k, beta, rho= best_par[0],  best_par[1],  best_par[2]\n",
    "    \n",
    "    # Loop of around search\n",
    "    while True  :\n",
    "        k, beta, rho, current_rmse = search_algorithm(pandemic, params)\n",
    "    \n",
    "        print(\"\\n[k:{}, beta:{}, rho:{}] --> RMSE:{}\\n\".format(k, beta, rho, current_rmse))\n",
    "    \n",
    "        # If no better solution find go on\n",
    "        if np.round(current_rmse, 2) >= np.round(last_rmse, 2):\n",
    "            break\n",
    "    \n",
    "        last_rmse = current_rmse\n",
    "        best_local = [k,beta,rho]\n",
    "        \n",
    "    \n",
    "    # If no better solution found halve the deltasa\n",
    "    if np.round(new_rmse, 2) >= np.round(division_rmse, 2):\n",
    "            break\n",
    "    \n",
    "    delta_k = round(delta_k/2)\n",
    "    delta_beta = delta_beta/2\n",
    "    delta_rho= delta_rho/2\n",
    "    \n",
    "    print(\"New Deltas: [D_k: {}, D_beta:{}, D_rho:{}]\".format(delta_k, delta_beta, delta_rho))\n",
    "\n",
    "    division_rmse = last_rmse\n",
    "    best_par = best_local\n",
    "    \n",
    "    print(\"New BEST {} --> RMSE: {}]\".format(best_par, division_rmse))"
   ]
  },
  {
   "cell_type": "markdown",
   "metadata": {},
   "source": [
    "Now that the simulation has found the best configuration of $(k, \\beta, \\rho)$, we can run the best simulation of the H1N1 pandemic in Sweden 2009. Specifically:\n",
    "1. initialize our best configuration of parameters;\n",
    "2. generate a new random graph with the best k we found;\n",
    "3. simulate our pandemic once again, for 15 weeks, considering 100 iterations to have more stable results."
   ]
  },
  {
   "cell_type": "code",
   "execution_count": null,
   "metadata": {},
   "outputs": [],
   "source": [
    "# 1) Best paramters (k, beta, rho)\n",
    "best_k_beta_rho = [9, 0.21406249999999996, 0.5546875]\n",
    "print(\"Our best parameters (k, beta, rho)=\", best_par)\n",
    "\n",
    "# 2) Generate a new random graph with the new k \n",
    "G = generate_random_graph(best_k_beta_rho[0], n_nodes)\n",
    "\n",
    "# 3) Our best simulation\n",
    "# Increase number of steps to have more stable results\n",
    "pandemic[\"n_steps\"] = 100\n",
    "\n",
    "# Simulation loop\n",
    "simulations = simulate_pandemic(G, best_k_beta_rho[1], best_k_beta_rho[2], I0[0], pandemic)"
   ]
  },
  {
   "cell_type": "markdown",
   "metadata": {},
   "source": [
    "Now that we have run this simulation, we can plot the average number of newly infected individuals each week according to the model (with your best parameters) compared to the true value of newly infected individuals each week."
   ]
  },
  {
   "cell_type": "code",
   "execution_count": null,
   "metadata": {},
   "outputs": [],
   "source": [
    "simulation_week_i = np.zeros([pandemic[\"n_steps\"], pandemic[\"n_weeks\"]])\n",
    "\n",
    "for i in range(simulations.shape[0]):\n",
    "    \n",
    "    cases_i = np.zeros(simulations[i].shape[0])\n",
    "    \n",
    "    for case in range(simulations[i].shape[0]):\n",
    "                \n",
    "        if case == 0:\n",
    "            cases_i[case] = int(np.argwhere(simulations[i, case] == 1).shape[0])\n",
    "        \n",
    "        else:\n",
    "            cases_i[case] = int(np.argwhere(((simulations[i, case]==1) & (simulations[i,case-1]<simulations[i,case]) ) ).shape[0]) \n",
    "    \n",
    "    simulation_week_i[i] =  cases_i\n",
    "    \n",
    "avg_x_week = np.mean(simulation_week_i ,axis=0)\n",
    "\n",
    "plt.figure(figsize = (13 ,7))\n",
    "plt.plot(range(pandemic_par[\"n_weeks\"]), avg_week, label=\"predicted\") \n",
    "plt.plot(range(pandemic_par[\"n_weeks\"]), I0, label = \"actual\") \n",
    "plt.xlabel(\"week\")\n",
    "plt.ylabel(\"cases\")\n",
    "plt.grid()\n",
    "plt.legend()\n",
    "#plt.savefig(\"./images/Ex4_1.png\")\n",
    "plt.show()"
   ]
  }
 ],
 "metadata": {
  "kernelspec": {
   "display_name": "Python 3",
   "language": "python",
   "name": "python3"
  },
  "language_info": {
   "codemirror_mode": {
    "name": "ipython",
    "version": 3
   },
   "file_extension": ".py",
   "mimetype": "text/x-python",
   "name": "python",
   "nbconvert_exporter": "python",
   "pygments_lexer": "ipython3",
   "version": "3.6.9"
  }
 },
 "nbformat": 4,
 "nbformat_minor": 4
}
