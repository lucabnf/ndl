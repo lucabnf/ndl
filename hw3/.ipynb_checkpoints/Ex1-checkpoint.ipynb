{
 "cells": [
  {
   "cell_type": "markdown",
   "metadata": {},
   "source": [
    "# Homework 3\n",
    "## Exercise 1 - Preliminaty Parts\n",
    "Armando La Rocca "
   ]
  },
  {
   "cell_type": "code",
   "execution_count": 1,
   "metadata": {},
   "outputs": [],
   "source": [
    "import numpy as np \n",
    "import matplotlib.pyplot as plt \n",
    "import networkx as nx \n",
    "import scipy as sp"
   ]
  },
  {
   "cell_type": "markdown",
   "metadata": {},
   "source": [
    "## 1.1 Epidemic on a known graph"
   ]
  },
  {
   "cell_type": "markdown",
   "metadata": {},
   "source": [
    "You should simulate an epidemic on a symmetric $k-$regular graph $G = (V, E)$ with $|V|=500$ nodes and $k=4$."
   ]
  },
  {
   "cell_type": "code",
   "execution_count": 2,
   "metadata": {},
   "outputs": [],
   "source": [
    "k = 4\n",
    "n_nodes = 500\n",
    "\n",
    "G = nx.Graph()\n",
    "sources = np.arange(n_nodes)\n",
    "\n",
    "for i in range(1, int(k/2) + 1):\n",
    "    targets = np.roll(sources, i)\n",
    "    G.add_edges_from(zip(sources, targets))\n",
    "\n",
    "#nx.draw(G)\n",
    "#plt.show()"
   ]
  },
  {
   "cell_type": "markdown",
   "metadata": {},
   "source": [
    "With one week being one unit of time, simulate the epidemic for 15 weeks. You can choose an initial configuration with 10 infected nodes selected at random from the node set $V$, or make a different choice of initial configuration (in the latter case, please briefly discuss your motivation).\n",
    "Do this $N = 100$ times and plot the following:"
   ]
  },
  {
   "cell_type": "code",
   "execution_count": 3,
   "metadata": {},
   "outputs": [],
   "source": [
    "def set_init_config( G, initial_i, policy): \n",
    "    x0 = np.zeros(len(G))\n",
    "    \n",
    "    if policy == \"random\": \n",
    "        idx = np.random.choice(list(G.nodes), size =initial_i )\n",
    "        \n",
    "        for i in idx: \n",
    "            x0[idx] = 1\n",
    "        \n",
    "        return x0 \n",
    "        \n",
    "    else : \n",
    "        print(\"Wrong policy\")\n",
    "        \n",
    "        \n",
    "        \n",
    "def count_SIR( state, n_states ):\n",
    "    cardinalities = np.zeros([states.shape[0],n_states ])\n",
    "    \n",
    "    for i in range(states.shape[0]):\n",
    "        for n_s in range(n_states):\n",
    "            cardinalities[i, n_s] = int(np.argwhere(states[i] == n_s).shape[0])\n",
    "    \n",
    "    return cardinalities \n",
    "\n",
    "\n",
    "\n",
    "\n",
    "def new_weekly(states, s):\n",
    "    cardinalities = np.zeros(states.shape[0])\n",
    "    \n",
    "    for n_w in range(states.shape[0]): \n",
    "        \n",
    "        if n_w == 0 :\n",
    "            cardinalities[n_w] = int(np.argwhere(states[n_w] == s).shape[0])\n",
    "        \n",
    "        else : \n",
    "            cardinalities[n_w] = int(np.argwhere( ( (states[n_w]==s) & (states[n_w-1]<states[n_w]) ) ).shape[0])\n",
    "            \n",
    "    return cardinalities"
   ]
  },
  {
   "cell_type": "code",
   "execution_count": 4,
   "metadata": {},
   "outputs": [],
   "source": [
    "def single_rate(state, m, beta, ro):\n",
    "    \n",
    "    if state == 0 : \n",
    "        return np.array([(1-beta)**m,  1 - (1-beta)**m, 0])\n",
    "    \n",
    "    if state == 1 : \n",
    "        return np.array([0,  1-ro, ro ])\n",
    "    \n",
    "    elif state == 2 : \n",
    "        return np.array([0,  0, 1 ])\n",
    "        \n",
    "        \n",
    "        \n",
    "def new_conf_rates(G, x, beta, ro):\n",
    "    \n",
    "    matrix = np.zeros([len(G),3])\n",
    "    \n",
    "    for agent in range(len(G)) :\n",
    "        m=0\n",
    "        for neig in dict(G.adj[agent]).keys() :\n",
    "            if x[neig] == 1:\n",
    "                m+=1\n",
    "        \n",
    "        matrix[agent] = single_rate(x[agent], m, beta, ro)\n",
    "            \n",
    "    return matrix"
   ]
  },
  {
   "cell_type": "code",
   "execution_count": 5,
   "metadata": {},
   "outputs": [
    {
     "name": "stdout",
     "output_type": "stream",
     "text": [
      "# Simulation  0\n",
      "# Simulation  1\n",
      "# Simulation  2\n",
      "# Simulation  3\n",
      "# Simulation  4\n",
      "# Simulation  5\n",
      "# Simulation  6\n",
      "# Simulation  7\n",
      "# Simulation  8\n",
      "# Simulation  9\n",
      "# Simulation  10\n",
      "# Simulation  11\n",
      "# Simulation  12\n",
      "# Simulation  13\n",
      "# Simulation  14\n",
      "# Simulation  15\n",
      "# Simulation  16\n",
      "# Simulation  17\n",
      "# Simulation  18\n",
      "# Simulation  19\n",
      "# Simulation  20\n",
      "# Simulation  21\n",
      "# Simulation  22\n",
      "# Simulation  23\n",
      "# Simulation  24\n",
      "# Simulation  25\n",
      "# Simulation  26\n",
      "# Simulation  27\n",
      "# Simulation  28\n",
      "# Simulation  29\n",
      "# Simulation  30\n",
      "# Simulation  31\n",
      "# Simulation  32\n",
      "# Simulation  33\n",
      "# Simulation  34\n",
      "# Simulation  35\n",
      "# Simulation  36\n",
      "# Simulation  37\n",
      "# Simulation  38\n",
      "# Simulation  39\n",
      "# Simulation  40\n",
      "# Simulation  41\n",
      "# Simulation  42\n",
      "# Simulation  43\n",
      "# Simulation  44\n",
      "# Simulation  45\n",
      "# Simulation  46\n",
      "# Simulation  47\n",
      "# Simulation  48\n",
      "# Simulation  49\n",
      "# Simulation  50\n",
      "# Simulation  51\n",
      "# Simulation  52\n",
      "# Simulation  53\n",
      "# Simulation  54\n",
      "# Simulation  55\n",
      "# Simulation  56\n",
      "# Simulation  57\n",
      "# Simulation  58\n",
      "# Simulation  59\n",
      "# Simulation  60\n",
      "# Simulation  61\n",
      "# Simulation  62\n",
      "# Simulation  63\n",
      "# Simulation  64\n",
      "# Simulation  65\n",
      "# Simulation  66\n",
      "# Simulation  67\n",
      "# Simulation  68\n",
      "# Simulation  69\n",
      "# Simulation  70\n",
      "# Simulation  71\n",
      "# Simulation  72\n",
      "# Simulation  73\n",
      "# Simulation  74\n",
      "# Simulation  75\n",
      "# Simulation  76\n",
      "# Simulation  77\n",
      "# Simulation  78\n",
      "# Simulation  79\n",
      "# Simulation  80\n",
      "# Simulation  81\n",
      "# Simulation  82\n",
      "# Simulation  83\n",
      "# Simulation  84\n",
      "# Simulation  85\n",
      "# Simulation  86\n",
      "# Simulation  87\n",
      "# Simulation  88\n",
      "# Simulation  89\n",
      "# Simulation  90\n",
      "# Simulation  91\n",
      "# Simulation  92\n",
      "# Simulation  93\n",
      "# Simulation  94\n",
      "# Simulation  95\n",
      "# Simulation  96\n",
      "# Simulation  97\n",
      "# Simulation  98\n",
      "# Simulation  99\n"
     ]
    }
   ],
   "source": [
    "# Initialization\n",
    "beta = 0.3\n",
    "ro = 0.7\n",
    "n_steps = 100\n",
    "n_weeks = 15\n",
    "initial_infected = 10\n",
    "n_stati = 3\n",
    "\n",
    "simu= np.zeros([n_steps,n_weeks, n_nodes])\n",
    "\n",
    "# Simulation loop\n",
    "for _ in range(0,n_steps):\n",
    "    print(\"# Simulation \",_)\n",
    "    \n",
    "    states = np.zeros([n_weeks, n_nodes])\n",
    "    \n",
    "    # Initial condition \n",
    "    x0 = set_init_config(G, initial_infected, \"random\")\n",
    "    states[0] = x0\n",
    "    \n",
    "    for i in range(1,n_weeks):\n",
    "        # Take last configuration\n",
    "        x = np.copy( states[i-1] )        \n",
    "        rates = new_conf_rates(G, x, beta, ro)\n",
    "        \n",
    "        # Chose the next configuration \n",
    "        next_pos = np.argmax(np.cumsum(rates,axis=1) > np.random.rand(n_nodes,1), axis=1)\n",
    "        states[i] = next_pos\n",
    "        \n",
    "    simu[_] = states\n"
   ]
  },
  {
   "cell_type": "code",
   "execution_count": 6,
   "metadata": {},
   "outputs": [
    {
     "data": {
      "text/plain": [
       "\"pos = nx.spectral_layout(G)\\nfig = plt.figure(figsize=(20,20))\\nfor t in range(0,len(states)):\\n    plt.subplot(round(len(states)/4)+1,4,t+1)\\n    x = states[t]\\n    #x = np.array(np.unravel_index(x_id, shape = n_states))\\n    nx.draw(G,\\n        pos = pos,\\n        with_labels=True,\\n        nodelist=np.argwhere(x==0).T[0].tolist(),\\n        node_color = 'w')\\n    nx.draw(G,\\n        pos = pos,\\n        with_labels=True,\\n        nodelist=np.argwhere(x==1).T[0].tolist(),\\n        node_color = 'r')\\n    nx.draw(G,\\n        pos = pos,\\n        with_labels=True,\\n        nodelist=np.argwhere(x==2).T[0].tolist(),\\n        node_color = 'g')\\n    plt.title('jump step = {0}'.format(t+1))\""
      ]
     },
     "execution_count": 6,
     "metadata": {},
     "output_type": "execute_result"
    }
   ],
   "source": [
    "'''pos = nx.spectral_layout(G)\n",
    "fig = plt.figure(figsize=(20,20))\n",
    "for t in range(0,len(states)):\n",
    "    plt.subplot(round(len(states)/4)+1,4,t+1)\n",
    "    x = states[t]\n",
    "    #x = np.array(np.unravel_index(x_id, shape = n_states))\n",
    "    nx.draw(G,\n",
    "        pos = pos,\n",
    "        with_labels=True,\n",
    "        nodelist=np.argwhere(x==0).T[0].tolist(),\n",
    "        node_color = 'w')\n",
    "    nx.draw(G,\n",
    "        pos = pos,\n",
    "        with_labels=True,\n",
    "        nodelist=np.argwhere(x==1).T[0].tolist(),\n",
    "        node_color = 'r')\n",
    "    nx.draw(G,\n",
    "        pos = pos,\n",
    "        with_labels=True,\n",
    "        nodelist=np.argwhere(x==2).T[0].tolist(),\n",
    "        node_color = 'g')\n",
    "    plt.title('jump step = {0}'.format(t+1))'''"
   ]
  },
  {
   "cell_type": "markdown",
   "metadata": {},
   "source": [
    "- The average number of newly infected individuals each week. In other words, you should plot how many people become infected each week (on the average).\n"
   ]
  },
  {
   "cell_type": "code",
   "execution_count": 6,
   "metadata": {},
   "outputs": [
    {
     "data": {
      "image/png": "[encoded data removed]",
      "text/plain": [
       "<Figure size 936x504 with 1 Axes>"
      ]
     },
     "metadata": {
      "needs_background": "light"
     },
     "output_type": "display_data"
    }
   ],
   "source": [
    "simu_week_i = np.zeros([n_steps, n_weeks])\n",
    "\n",
    "for i in range( simu.shape[0] ):     \n",
    "    simu_week_i[i] =  new_weekly( simu[i], 1 ) \n",
    "    \n",
    "avg_week_i = np.mean(simu_week_i ,axis=0)\n",
    "\n",
    "plt.figure(figsize = (13 ,7))\n",
    "plt.plot(range(n_weeks), avg_week_i) \n",
    "plt.xlabel(\"time\")\n",
    "plt.ylabel(\"cardinality\")\n",
    "plt.grid()\n",
    "plt.show()"
   ]
  },
  {
   "cell_type": "markdown",
   "metadata": {},
   "source": [
    "- The average total number of susceptible, infected, and recovered individuals at each week. In other words, you should plot how many individuals in total that are susceptible/infected/recovered at each week (on the average)."
   ]
  },
  {
   "cell_type": "code",
   "execution_count": 8,
   "metadata": {},
   "outputs": [],
   "source": [
    "def count_SIR( state, n_states ):\n",
    "    cardinalities = np.zeros([states.shape[0],n_states ])\n",
    "    \n",
    "    for i in range(states.shape[0]):\n",
    "        for n_s in range(n_states):\n",
    "            cardinalities[i, n_s] = int(np.argwhere(states[i] == n_s).shape[0])\n",
    "    \n",
    "    return cardinalities "
   ]
  },
  {
   "cell_type": "code",
   "execution_count": 9,
   "metadata": {},
   "outputs": [
    {
     "data": {
      "image/png": "[encoded data removed]",
      "text/plain": [
       "<Figure size 936x504 with 1 Axes>"
      ]
     },
     "metadata": {
      "needs_background": "light"
     },
     "output_type": "display_data"
    }
   ],
   "source": [
    "sum_sir = np.zeros([n_weeks, n_stati])\n",
    "\n",
    "for s in simu :\n",
    "    sum_sir  += count_SIR(s, n_stati)\n",
    "    \n",
    "avg_sir = sum_sir / n_steps\n",
    "\n",
    "plt.figure(figsize = (13 ,7))\n",
    "plt.plot(range(n_weeks), avg_sir[:,0], label = \"S\") \n",
    "plt.plot(range(n_weeks), avg_sir[:,1], label = \"I\") \n",
    "plt.plot(range(n_weeks), avg_sir[:,2], label = \"R\")\n",
    "plt.xlabel(\"time\")\n",
    "plt.ylabel(\"cardinality\")\n",
    "plt.legend()\n",
    "plt.grid()\n",
    "plt.show()"
   ]
  },
  {
   "cell_type": "markdown",
   "metadata": {},
   "source": [
    "## 1.2 Generate a random graph"
   ]
  },
  {
   "cell_type": "markdown",
   "metadata": {},
   "source": [
    " Your goal is to, by using preferential attachment, generate a random graph of a large size (at least $900$ nodes) with average degree $k ∈ Z$. Let the initial graph $G_1 =(V_1,E_1)$ be a complete graph with $|V_1| = k_0 = k+1$ nodes."
   ]
  },
  {
   "cell_type": "code",
   "execution_count": 9,
   "metadata": {},
   "outputs": [
    {
     "data": {
      "text/plain": [
       "4.0"
      ]
     },
     "execution_count": 9,
     "metadata": {},
     "output_type": "execute_result"
    }
   ],
   "source": [
    "k = 4\n",
    "G = nx.generators.classic.complete_graph(k + 1)\n",
    "\n",
    "for nt in range(k+1, 900):\n",
    "    \n",
    "    w = np.array(G.degree)[:,1]\n",
    "    prob = w / np.sum(w) \n",
    "    c = (k + (nt % 2)) // 2\n",
    "\n",
    "    idx = np.random.choice(G.nodes(), size =c, replace=False, p =prob)\n",
    "    G.add_node(nt)\n",
    "    \n",
    "    for link in range(c):\n",
    "        G.add_edge( nt, idx[link]) \n",
    "\n",
    "np.mean(np.array(G.degree)[:,1])"
   ]
  },
  {
   "cell_type": "code",
   "execution_count": null,
   "metadata": {},
   "outputs": [],
   "source": []
  },
  {
   "cell_type": "code",
   "execution_count": null,
   "metadata": {},
   "outputs": [],
   "source": []
  }
 ],
 "metadata": {
  "kernelspec": {
   "display_name": "Python 3",
   "language": "python",
   "name": "python3"
  },
  "language_info": {
   "codemirror_mode": {
    "name": "ipython",
    "version": 3
   },
   "file_extension": ".py",
   "mimetype": "text/x-python",
   "name": "python",
   "nbconvert_exporter": "python",
   "pygments_lexer": "ipython3",
   "version": "3.6.9"
  }
 },
 "nbformat": 4,
 "nbformat_minor": 4
}
